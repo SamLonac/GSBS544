{
 "cells": [
  {
   "cell_type": "raw",
   "metadata": {},
   "source": [
    "---\n",
    "self-contained: true\n",
    "title: \"Lab 5: Insurance Costs\"\n",
    "format: \n",
    "  html:\n",
    "    theme: yeti\n",
    "author: \"Samuel Lonac\"\n",
    "---"
   ]
  },
  {
   "cell_type": "code",
   "execution_count": 11,
   "metadata": {
    "id": "J-oulGTqtKTI"
   },
   "outputs": [],
   "source": [
    "import pandas as pd\n",
    "import numpy as np\n",
    "from plotnine import ggplot, aes, labs, geom_bar, geom_density, geom_point, geom_boxplot, geom_line\n",
    "from sklearn.pipeline import Pipeline\n",
    "from sklearn.linear_model import LinearRegression\n",
    "from sklearn.model_selection import train_test_split\n",
    "from sklearn.compose import ColumnTransformer\n",
    "from sklearn.preprocessing import PolynomialFeatures\n",
    "from sklearn.preprocessing import OneHotEncoder\n",
    "from sklearn.metrics import mean_squared_error, r2_score"
   ]
  },
  {
   "cell_type": "markdown",
   "metadata": {
    "id": "vc2tkMrJupxF"
   },
   "source": [
    "## Part One: Data Exploration"
   ]
  },
  {
   "cell_type": "markdown",
   "metadata": {
    "id": "dXP7pMaHS2j_"
   },
   "source": [
    "### 1."
   ]
  },
  {
   "cell_type": "code",
   "execution_count": 12,
   "metadata": {
    "id": "Amk3QrqvtTZP"
   },
   "outputs": [],
   "source": [
    "insurance = pd.read_csv(\"https://www.dropbox.com/s/bocjjyo1ehr5auz/insurance_costs_1.csv?dl=1\")"
   ]
  },
  {
   "cell_type": "code",
   "execution_count": 13,
   "metadata": {
    "colab": {
     "base_uri": "https://localhost:8080/",
     "height": 206
    },
    "id": "Q__6mHAguj0Q",
    "outputId": "232660ff-954a-49d0-eeeb-40a02dd4ea66"
   },
   "outputs": [
    {
     "data": {
      "text/html": [
       "<div>\n",
       "<style scoped>\n",
       "    .dataframe tbody tr th:only-of-type {\n",
       "        vertical-align: middle;\n",
       "    }\n",
       "\n",
       "    .dataframe tbody tr th {\n",
       "        vertical-align: top;\n",
       "    }\n",
       "\n",
       "    .dataframe thead th {\n",
       "        text-align: right;\n",
       "    }\n",
       "</style>\n",
       "<table border=\"1\" class=\"dataframe\">\n",
       "  <thead>\n",
       "    <tr style=\"text-align: right;\">\n",
       "      <th></th>\n",
       "      <th>age</th>\n",
       "      <th>sex</th>\n",
       "      <th>bmi</th>\n",
       "      <th>smoker</th>\n",
       "      <th>region</th>\n",
       "      <th>charges</th>\n",
       "    </tr>\n",
       "  </thead>\n",
       "  <tbody>\n",
       "    <tr>\n",
       "      <th>0</th>\n",
       "      <td>19</td>\n",
       "      <td>female</td>\n",
       "      <td>27.900</td>\n",
       "      <td>yes</td>\n",
       "      <td>southwest</td>\n",
       "      <td>16884.92400</td>\n",
       "    </tr>\n",
       "    <tr>\n",
       "      <th>1</th>\n",
       "      <td>33</td>\n",
       "      <td>male</td>\n",
       "      <td>22.705</td>\n",
       "      <td>no</td>\n",
       "      <td>northwest</td>\n",
       "      <td>21984.47061</td>\n",
       "    </tr>\n",
       "    <tr>\n",
       "      <th>2</th>\n",
       "      <td>32</td>\n",
       "      <td>male</td>\n",
       "      <td>28.880</td>\n",
       "      <td>no</td>\n",
       "      <td>northwest</td>\n",
       "      <td>3866.85520</td>\n",
       "    </tr>\n",
       "    <tr>\n",
       "      <th>3</th>\n",
       "      <td>31</td>\n",
       "      <td>female</td>\n",
       "      <td>25.740</td>\n",
       "      <td>no</td>\n",
       "      <td>southeast</td>\n",
       "      <td>3756.62160</td>\n",
       "    </tr>\n",
       "    <tr>\n",
       "      <th>4</th>\n",
       "      <td>60</td>\n",
       "      <td>female</td>\n",
       "      <td>25.840</td>\n",
       "      <td>no</td>\n",
       "      <td>northwest</td>\n",
       "      <td>28923.13692</td>\n",
       "    </tr>\n",
       "  </tbody>\n",
       "</table>\n",
       "</div>"
      ],
      "text/plain": [
       "   age     sex     bmi smoker     region      charges\n",
       "0   19  female  27.900    yes  southwest  16884.92400\n",
       "1   33    male  22.705     no  northwest  21984.47061\n",
       "2   32    male  28.880     no  northwest   3866.85520\n",
       "3   31  female  25.740     no  southeast   3756.62160\n",
       "4   60  female  25.840     no  northwest  28923.13692"
      ]
     },
     "execution_count": 13,
     "metadata": {},
     "output_type": "execute_result"
    }
   ],
   "source": [
    "insurance.head()"
   ]
  },
  {
   "cell_type": "code",
   "execution_count": 14,
   "metadata": {
    "colab": {
     "base_uri": "https://localhost:8080/",
     "height": 300
    },
    "id": "QkPFBLi1tv7g",
    "outputId": "dd5e6979-c9ab-467b-dccd-81fd97f9ef77"
   },
   "outputs": [
    {
     "data": {
      "text/html": [
       "<div>\n",
       "<style scoped>\n",
       "    .dataframe tbody tr th:only-of-type {\n",
       "        vertical-align: middle;\n",
       "    }\n",
       "\n",
       "    .dataframe tbody tr th {\n",
       "        vertical-align: top;\n",
       "    }\n",
       "\n",
       "    .dataframe thead th {\n",
       "        text-align: right;\n",
       "    }\n",
       "</style>\n",
       "<table border=\"1\" class=\"dataframe\">\n",
       "  <thead>\n",
       "    <tr style=\"text-align: right;\">\n",
       "      <th></th>\n",
       "      <th>age</th>\n",
       "      <th>bmi</th>\n",
       "      <th>charges</th>\n",
       "    </tr>\n",
       "  </thead>\n",
       "  <tbody>\n",
       "    <tr>\n",
       "      <th>count</th>\n",
       "      <td>431.000000</td>\n",
       "      <td>431.000000</td>\n",
       "      <td>431.000000</td>\n",
       "    </tr>\n",
       "    <tr>\n",
       "      <th>mean</th>\n",
       "      <td>37.960557</td>\n",
       "      <td>30.768898</td>\n",
       "      <td>12297.098118</td>\n",
       "    </tr>\n",
       "    <tr>\n",
       "      <th>std</th>\n",
       "      <td>16.363909</td>\n",
       "      <td>6.111362</td>\n",
       "      <td>11876.527128</td>\n",
       "    </tr>\n",
       "    <tr>\n",
       "      <th>min</th>\n",
       "      <td>18.000000</td>\n",
       "      <td>15.960000</td>\n",
       "      <td>1131.506600</td>\n",
       "    </tr>\n",
       "    <tr>\n",
       "      <th>25%</th>\n",
       "      <td>22.000000</td>\n",
       "      <td>26.357500</td>\n",
       "      <td>2710.444575</td>\n",
       "    </tr>\n",
       "    <tr>\n",
       "      <th>50%</th>\n",
       "      <td>34.000000</td>\n",
       "      <td>30.590000</td>\n",
       "      <td>9866.304850</td>\n",
       "    </tr>\n",
       "    <tr>\n",
       "      <th>75%</th>\n",
       "      <td>55.000000</td>\n",
       "      <td>35.272500</td>\n",
       "      <td>14510.872600</td>\n",
       "    </tr>\n",
       "    <tr>\n",
       "      <th>max</th>\n",
       "      <td>64.000000</td>\n",
       "      <td>49.060000</td>\n",
       "      <td>55135.402090</td>\n",
       "    </tr>\n",
       "  </tbody>\n",
       "</table>\n",
       "</div>"
      ],
      "text/plain": [
       "              age         bmi       charges\n",
       "count  431.000000  431.000000    431.000000\n",
       "mean    37.960557   30.768898  12297.098118\n",
       "std     16.363909    6.111362  11876.527128\n",
       "min     18.000000   15.960000   1131.506600\n",
       "25%     22.000000   26.357500   2710.444575\n",
       "50%     34.000000   30.590000   9866.304850\n",
       "75%     55.000000   35.272500  14510.872600\n",
       "max     64.000000   49.060000  55135.402090"
      ]
     },
     "execution_count": 14,
     "metadata": {},
     "output_type": "execute_result"
    }
   ],
   "source": [
    "insurance.describe()"
   ]
  },
  {
   "cell_type": "code",
   "execution_count": 16,
   "metadata": {
    "colab": {
     "base_uri": "https://localhost:8080/",
     "height": 181
    },
    "id": "gB9p02iHwx4Y",
    "outputId": "ca6a0932-8071-4307-85c7-3a3f20c1786a"
   },
   "outputs": [
    {
     "data": {
      "text/html": [
       "<div>\n",
       "<style scoped>\n",
       "    .dataframe tbody tr th:only-of-type {\n",
       "        vertical-align: middle;\n",
       "    }\n",
       "\n",
       "    .dataframe tbody tr th {\n",
       "        vertical-align: top;\n",
       "    }\n",
       "\n",
       "    .dataframe thead th {\n",
       "        text-align: right;\n",
       "    }\n",
       "</style>\n",
       "<table border=\"1\" class=\"dataframe\">\n",
       "  <thead>\n",
       "    <tr style=\"text-align: right;\">\n",
       "      <th></th>\n",
       "      <th>age</th>\n",
       "      <th>bmi</th>\n",
       "      <th>charges</th>\n",
       "    </tr>\n",
       "    <tr>\n",
       "      <th>smoker</th>\n",
       "      <th></th>\n",
       "      <th></th>\n",
       "      <th></th>\n",
       "    </tr>\n",
       "  </thead>\n",
       "  <tbody>\n",
       "    <tr>\n",
       "      <th>no</th>\n",
       "      <td>38.299419</td>\n",
       "      <td>30.780247</td>\n",
       "      <td>7528.467642</td>\n",
       "    </tr>\n",
       "    <tr>\n",
       "      <th>yes</th>\n",
       "      <td>36.620690</td>\n",
       "      <td>30.724023</td>\n",
       "      <td>31152.372644</td>\n",
       "    </tr>\n",
       "  </tbody>\n",
       "</table>\n",
       "</div>"
      ],
      "text/plain": [
       "              age        bmi       charges\n",
       "smoker                                    \n",
       "no      38.299419  30.780247   7528.467642\n",
       "yes     36.620690  30.724023  31152.372644"
      ]
     },
     "execution_count": 16,
     "metadata": {},
     "output_type": "execute_result"
    }
   ],
   "source": [
    "insurance.groupby(\"smoker\").mean(numeric_only = True)"
   ]
  },
  {
   "cell_type": "code",
   "execution_count": 6,
   "metadata": {
    "colab": {
     "base_uri": "https://localhost:8080/",
     "height": 143
    },
    "id": "_slQ5pq0xmZ_",
    "outputId": "a8309122-a9ab-4277-9b4b-31a8dfe7f2d7"
   },
   "outputs": [
    {
     "data": {
      "text/html": [
       "\n",
       "  <div id=\"df-56405426-b98f-4e85-b792-0c768d80e777\" class=\"colab-df-container\">\n",
       "    <div>\n",
       "<style scoped>\n",
       "    .dataframe tbody tr th:only-of-type {\n",
       "        vertical-align: middle;\n",
       "    }\n",
       "\n",
       "    .dataframe tbody tr th {\n",
       "        vertical-align: top;\n",
       "    }\n",
       "\n",
       "    .dataframe thead th {\n",
       "        text-align: right;\n",
       "    }\n",
       "</style>\n",
       "<table border=\"1\" class=\"dataframe\">\n",
       "  <thead>\n",
       "    <tr style=\"text-align: right;\">\n",
       "      <th></th>\n",
       "      <th>age</th>\n",
       "      <th>sex</th>\n",
       "      <th>bmi</th>\n",
       "      <th>region</th>\n",
       "      <th>charges</th>\n",
       "    </tr>\n",
       "    <tr>\n",
       "      <th>smoker</th>\n",
       "      <th></th>\n",
       "      <th></th>\n",
       "      <th></th>\n",
       "      <th></th>\n",
       "      <th></th>\n",
       "    </tr>\n",
       "  </thead>\n",
       "  <tbody>\n",
       "    <tr>\n",
       "      <th>no</th>\n",
       "      <td>344</td>\n",
       "      <td>344</td>\n",
       "      <td>344</td>\n",
       "      <td>344</td>\n",
       "      <td>344</td>\n",
       "    </tr>\n",
       "    <tr>\n",
       "      <th>yes</th>\n",
       "      <td>87</td>\n",
       "      <td>87</td>\n",
       "      <td>87</td>\n",
       "      <td>87</td>\n",
       "      <td>87</td>\n",
       "    </tr>\n",
       "  </tbody>\n",
       "</table>\n",
       "</div>\n",
       "    <div class=\"colab-df-buttons\">\n",
       "\n",
       "  <div class=\"colab-df-container\">\n",
       "    <button class=\"colab-df-convert\" onclick=\"convertToInteractive('df-56405426-b98f-4e85-b792-0c768d80e777')\"\n",
       "            title=\"Convert this dataframe to an interactive table.\"\n",
       "            style=\"display:none;\">\n",
       "\n",
       "  <svg xmlns=\"http://www.w3.org/2000/svg\" height=\"24px\" viewBox=\"0 -960 960 960\">\n",
       "    <path d=\"M120-120v-720h720v720H120Zm60-500h600v-160H180v160Zm220 220h160v-160H400v160Zm0 220h160v-160H400v160ZM180-400h160v-160H180v160Zm440 0h160v-160H620v160ZM180-180h160v-160H180v160Zm440 0h160v-160H620v160Z\"/>\n",
       "  </svg>\n",
       "    </button>\n",
       "\n",
       "  <style>\n",
       "    .colab-df-container {\n",
       "      display:flex;\n",
       "      gap: 12px;\n",
       "    }\n",
       "\n",
       "    .colab-df-convert {\n",
       "      background-color: #E8F0FE;\n",
       "      border: none;\n",
       "      border-radius: 50%;\n",
       "      cursor: pointer;\n",
       "      display: none;\n",
       "      fill: #1967D2;\n",
       "      height: 32px;\n",
       "      padding: 0 0 0 0;\n",
       "      width: 32px;\n",
       "    }\n",
       "\n",
       "    .colab-df-convert:hover {\n",
       "      background-color: #E2EBFA;\n",
       "      box-shadow: 0px 1px 2px rgba(60, 64, 67, 0.3), 0px 1px 3px 1px rgba(60, 64, 67, 0.15);\n",
       "      fill: #174EA6;\n",
       "    }\n",
       "\n",
       "    .colab-df-buttons div {\n",
       "      margin-bottom: 4px;\n",
       "    }\n",
       "\n",
       "    [theme=dark] .colab-df-convert {\n",
       "      background-color: #3B4455;\n",
       "      fill: #D2E3FC;\n",
       "    }\n",
       "\n",
       "    [theme=dark] .colab-df-convert:hover {\n",
       "      background-color: #434B5C;\n",
       "      box-shadow: 0px 1px 3px 1px rgba(0, 0, 0, 0.15);\n",
       "      filter: drop-shadow(0px 1px 2px rgba(0, 0, 0, 0.3));\n",
       "      fill: #FFFFFF;\n",
       "    }\n",
       "  </style>\n",
       "\n",
       "    <script>\n",
       "      const buttonEl =\n",
       "        document.querySelector('#df-56405426-b98f-4e85-b792-0c768d80e777 button.colab-df-convert');\n",
       "      buttonEl.style.display =\n",
       "        google.colab.kernel.accessAllowed ? 'block' : 'none';\n",
       "\n",
       "      async function convertToInteractive(key) {\n",
       "        const element = document.querySelector('#df-56405426-b98f-4e85-b792-0c768d80e777');\n",
       "        const dataTable =\n",
       "          await google.colab.kernel.invokeFunction('convertToInteractive',\n",
       "                                                    [key], {});\n",
       "        if (!dataTable) return;\n",
       "\n",
       "        const docLinkHtml = 'Like what you see? Visit the ' +\n",
       "          '<a target=\"_blank\" href=https://colab.research.google.com/notebooks/data_table.ipynb>data table notebook</a>'\n",
       "          + ' to learn more about interactive tables.';\n",
       "        element.innerHTML = '';\n",
       "        dataTable['output_type'] = 'display_data';\n",
       "        await google.colab.output.renderOutput(dataTable, element);\n",
       "        const docLink = document.createElement('div');\n",
       "        docLink.innerHTML = docLinkHtml;\n",
       "        element.appendChild(docLink);\n",
       "      }\n",
       "    </script>\n",
       "  </div>\n",
       "\n",
       "\n",
       "<div id=\"df-c6813c66-0c48-4a19-afd6-882c97d42204\">\n",
       "  <button class=\"colab-df-quickchart\" onclick=\"quickchart('df-c6813c66-0c48-4a19-afd6-882c97d42204')\"\n",
       "            title=\"Suggest charts.\"\n",
       "            style=\"display:none;\">\n",
       "\n",
       "<svg xmlns=\"http://www.w3.org/2000/svg\" height=\"24px\"viewBox=\"0 0 24 24\"\n",
       "     width=\"24px\">\n",
       "    <g>\n",
       "        <path d=\"M19 3H5c-1.1 0-2 .9-2 2v14c0 1.1.9 2 2 2h14c1.1 0 2-.9 2-2V5c0-1.1-.9-2-2-2zM9 17H7v-7h2v7zm4 0h-2V7h2v10zm4 0h-2v-4h2v4z\"/>\n",
       "    </g>\n",
       "</svg>\n",
       "  </button>\n",
       "\n",
       "<style>\n",
       "  .colab-df-quickchart {\n",
       "      --bg-color: #E8F0FE;\n",
       "      --fill-color: #1967D2;\n",
       "      --hover-bg-color: #E2EBFA;\n",
       "      --hover-fill-color: #174EA6;\n",
       "      --disabled-fill-color: #AAA;\n",
       "      --disabled-bg-color: #DDD;\n",
       "  }\n",
       "\n",
       "  [theme=dark] .colab-df-quickchart {\n",
       "      --bg-color: #3B4455;\n",
       "      --fill-color: #D2E3FC;\n",
       "      --hover-bg-color: #434B5C;\n",
       "      --hover-fill-color: #FFFFFF;\n",
       "      --disabled-bg-color: #3B4455;\n",
       "      --disabled-fill-color: #666;\n",
       "  }\n",
       "\n",
       "  .colab-df-quickchart {\n",
       "    background-color: var(--bg-color);\n",
       "    border: none;\n",
       "    border-radius: 50%;\n",
       "    cursor: pointer;\n",
       "    display: none;\n",
       "    fill: var(--fill-color);\n",
       "    height: 32px;\n",
       "    padding: 0;\n",
       "    width: 32px;\n",
       "  }\n",
       "\n",
       "  .colab-df-quickchart:hover {\n",
       "    background-color: var(--hover-bg-color);\n",
       "    box-shadow: 0 1px 2px rgba(60, 64, 67, 0.3), 0 1px 3px 1px rgba(60, 64, 67, 0.15);\n",
       "    fill: var(--button-hover-fill-color);\n",
       "  }\n",
       "\n",
       "  .colab-df-quickchart-complete:disabled,\n",
       "  .colab-df-quickchart-complete:disabled:hover {\n",
       "    background-color: var(--disabled-bg-color);\n",
       "    fill: var(--disabled-fill-color);\n",
       "    box-shadow: none;\n",
       "  }\n",
       "\n",
       "  .colab-df-spinner {\n",
       "    border: 2px solid var(--fill-color);\n",
       "    border-color: transparent;\n",
       "    border-bottom-color: var(--fill-color);\n",
       "    animation:\n",
       "      spin 1s steps(1) infinite;\n",
       "  }\n",
       "\n",
       "  @keyframes spin {\n",
       "    0% {\n",
       "      border-color: transparent;\n",
       "      border-bottom-color: var(--fill-color);\n",
       "      border-left-color: var(--fill-color);\n",
       "    }\n",
       "    20% {\n",
       "      border-color: transparent;\n",
       "      border-left-color: var(--fill-color);\n",
       "      border-top-color: var(--fill-color);\n",
       "    }\n",
       "    30% {\n",
       "      border-color: transparent;\n",
       "      border-left-color: var(--fill-color);\n",
       "      border-top-color: var(--fill-color);\n",
       "      border-right-color: var(--fill-color);\n",
       "    }\n",
       "    40% {\n",
       "      border-color: transparent;\n",
       "      border-right-color: var(--fill-color);\n",
       "      border-top-color: var(--fill-color);\n",
       "    }\n",
       "    60% {\n",
       "      border-color: transparent;\n",
       "      border-right-color: var(--fill-color);\n",
       "    }\n",
       "    80% {\n",
       "      border-color: transparent;\n",
       "      border-right-color: var(--fill-color);\n",
       "      border-bottom-color: var(--fill-color);\n",
       "    }\n",
       "    90% {\n",
       "      border-color: transparent;\n",
       "      border-bottom-color: var(--fill-color);\n",
       "    }\n",
       "  }\n",
       "</style>\n",
       "\n",
       "  <script>\n",
       "    async function quickchart(key) {\n",
       "      const quickchartButtonEl =\n",
       "        document.querySelector('#' + key + ' button');\n",
       "      quickchartButtonEl.disabled = true;  // To prevent multiple clicks.\n",
       "      quickchartButtonEl.classList.add('colab-df-spinner');\n",
       "      try {\n",
       "        const charts = await google.colab.kernel.invokeFunction(\n",
       "            'suggestCharts', [key], {});\n",
       "      } catch (error) {\n",
       "        console.error('Error during call to suggestCharts:', error);\n",
       "      }\n",
       "      quickchartButtonEl.classList.remove('colab-df-spinner');\n",
       "      quickchartButtonEl.classList.add('colab-df-quickchart-complete');\n",
       "    }\n",
       "    (() => {\n",
       "      let quickchartButtonEl =\n",
       "        document.querySelector('#df-c6813c66-0c48-4a19-afd6-882c97d42204 button');\n",
       "      quickchartButtonEl.style.display =\n",
       "        google.colab.kernel.accessAllowed ? 'block' : 'none';\n",
       "    })();\n",
       "  </script>\n",
       "</div>\n",
       "    </div>\n",
       "  </div>\n"
      ],
      "text/plain": [
       "        age  sex  bmi  region  charges\n",
       "smoker                                \n",
       "no      344  344  344     344      344\n",
       "yes      87   87   87      87       87"
      ]
     },
     "execution_count": 6,
     "metadata": {},
     "output_type": "execute_result"
    }
   ],
   "source": [
    "insurance.groupby(\"smoker\").count()"
   ]
  },
  {
   "cell_type": "code",
   "execution_count": 17,
   "metadata": {
    "colab": {
     "base_uri": "https://localhost:8080/",
     "height": 181
    },
    "id": "I0OkOkuSw8OV",
    "outputId": "9e86b08c-ac8f-4a9b-9cd3-15f5fe44ac86"
   },
   "outputs": [
    {
     "data": {
      "text/html": [
       "<div>\n",
       "<style scoped>\n",
       "    .dataframe tbody tr th:only-of-type {\n",
       "        vertical-align: middle;\n",
       "    }\n",
       "\n",
       "    .dataframe tbody tr th {\n",
       "        vertical-align: top;\n",
       "    }\n",
       "\n",
       "    .dataframe thead th {\n",
       "        text-align: right;\n",
       "    }\n",
       "</style>\n",
       "<table border=\"1\" class=\"dataframe\">\n",
       "  <thead>\n",
       "    <tr style=\"text-align: right;\">\n",
       "      <th></th>\n",
       "      <th>age</th>\n",
       "      <th>bmi</th>\n",
       "      <th>charges</th>\n",
       "    </tr>\n",
       "    <tr>\n",
       "      <th>sex</th>\n",
       "      <th></th>\n",
       "      <th></th>\n",
       "      <th></th>\n",
       "    </tr>\n",
       "  </thead>\n",
       "  <tbody>\n",
       "    <tr>\n",
       "      <th>female</th>\n",
       "      <td>37.666667</td>\n",
       "      <td>30.904844</td>\n",
       "      <td>11919.373162</td>\n",
       "    </tr>\n",
       "    <tr>\n",
       "      <th>male</th>\n",
       "      <td>38.281553</td>\n",
       "      <td>30.620413</td>\n",
       "      <td>12709.661784</td>\n",
       "    </tr>\n",
       "  </tbody>\n",
       "</table>\n",
       "</div>"
      ],
      "text/plain": [
       "              age        bmi       charges\n",
       "sex                                       \n",
       "female  37.666667  30.904844  11919.373162\n",
       "male    38.281553  30.620413  12709.661784"
      ]
     },
     "execution_count": 17,
     "metadata": {},
     "output_type": "execute_result"
    }
   ],
   "source": [
    "insurance.groupby(\"sex\").mean(numeric_only = True)"
   ]
  },
  {
   "cell_type": "code",
   "execution_count": 8,
   "metadata": {
    "colab": {
     "base_uri": "https://localhost:8080/",
     "height": 143
    },
    "id": "6xuhQJF_xp0r",
    "outputId": "8c8e2e0a-0034-4343-d664-099a7d9eb13d"
   },
   "outputs": [
    {
     "data": {
      "text/html": [
       "\n",
       "  <div id=\"df-d13357a9-2273-4dd9-aa50-c633869b0d99\" class=\"colab-df-container\">\n",
       "    <div>\n",
       "<style scoped>\n",
       "    .dataframe tbody tr th:only-of-type {\n",
       "        vertical-align: middle;\n",
       "    }\n",
       "\n",
       "    .dataframe tbody tr th {\n",
       "        vertical-align: top;\n",
       "    }\n",
       "\n",
       "    .dataframe thead th {\n",
       "        text-align: right;\n",
       "    }\n",
       "</style>\n",
       "<table border=\"1\" class=\"dataframe\">\n",
       "  <thead>\n",
       "    <tr style=\"text-align: right;\">\n",
       "      <th></th>\n",
       "      <th>age</th>\n",
       "      <th>bmi</th>\n",
       "      <th>smoker</th>\n",
       "      <th>region</th>\n",
       "      <th>charges</th>\n",
       "    </tr>\n",
       "    <tr>\n",
       "      <th>sex</th>\n",
       "      <th></th>\n",
       "      <th></th>\n",
       "      <th></th>\n",
       "      <th></th>\n",
       "      <th></th>\n",
       "    </tr>\n",
       "  </thead>\n",
       "  <tbody>\n",
       "    <tr>\n",
       "      <th>female</th>\n",
       "      <td>225</td>\n",
       "      <td>225</td>\n",
       "      <td>225</td>\n",
       "      <td>225</td>\n",
       "      <td>225</td>\n",
       "    </tr>\n",
       "    <tr>\n",
       "      <th>male</th>\n",
       "      <td>206</td>\n",
       "      <td>206</td>\n",
       "      <td>206</td>\n",
       "      <td>206</td>\n",
       "      <td>206</td>\n",
       "    </tr>\n",
       "  </tbody>\n",
       "</table>\n",
       "</div>\n",
       "    <div class=\"colab-df-buttons\">\n",
       "\n",
       "  <div class=\"colab-df-container\">\n",
       "    <button class=\"colab-df-convert\" onclick=\"convertToInteractive('df-d13357a9-2273-4dd9-aa50-c633869b0d99')\"\n",
       "            title=\"Convert this dataframe to an interactive table.\"\n",
       "            style=\"display:none;\">\n",
       "\n",
       "  <svg xmlns=\"http://www.w3.org/2000/svg\" height=\"24px\" viewBox=\"0 -960 960 960\">\n",
       "    <path d=\"M120-120v-720h720v720H120Zm60-500h600v-160H180v160Zm220 220h160v-160H400v160Zm0 220h160v-160H400v160ZM180-400h160v-160H180v160Zm440 0h160v-160H620v160ZM180-180h160v-160H180v160Zm440 0h160v-160H620v160Z\"/>\n",
       "  </svg>\n",
       "    </button>\n",
       "\n",
       "  <style>\n",
       "    .colab-df-container {\n",
       "      display:flex;\n",
       "      gap: 12px;\n",
       "    }\n",
       "\n",
       "    .colab-df-convert {\n",
       "      background-color: #E8F0FE;\n",
       "      border: none;\n",
       "      border-radius: 50%;\n",
       "      cursor: pointer;\n",
       "      display: none;\n",
       "      fill: #1967D2;\n",
       "      height: 32px;\n",
       "      padding: 0 0 0 0;\n",
       "      width: 32px;\n",
       "    }\n",
       "\n",
       "    .colab-df-convert:hover {\n",
       "      background-color: #E2EBFA;\n",
       "      box-shadow: 0px 1px 2px rgba(60, 64, 67, 0.3), 0px 1px 3px 1px rgba(60, 64, 67, 0.15);\n",
       "      fill: #174EA6;\n",
       "    }\n",
       "\n",
       "    .colab-df-buttons div {\n",
       "      margin-bottom: 4px;\n",
       "    }\n",
       "\n",
       "    [theme=dark] .colab-df-convert {\n",
       "      background-color: #3B4455;\n",
       "      fill: #D2E3FC;\n",
       "    }\n",
       "\n",
       "    [theme=dark] .colab-df-convert:hover {\n",
       "      background-color: #434B5C;\n",
       "      box-shadow: 0px 1px 3px 1px rgba(0, 0, 0, 0.15);\n",
       "      filter: drop-shadow(0px 1px 2px rgba(0, 0, 0, 0.3));\n",
       "      fill: #FFFFFF;\n",
       "    }\n",
       "  </style>\n",
       "\n",
       "    <script>\n",
       "      const buttonEl =\n",
       "        document.querySelector('#df-d13357a9-2273-4dd9-aa50-c633869b0d99 button.colab-df-convert');\n",
       "      buttonEl.style.display =\n",
       "        google.colab.kernel.accessAllowed ? 'block' : 'none';\n",
       "\n",
       "      async function convertToInteractive(key) {\n",
       "        const element = document.querySelector('#df-d13357a9-2273-4dd9-aa50-c633869b0d99');\n",
       "        const dataTable =\n",
       "          await google.colab.kernel.invokeFunction('convertToInteractive',\n",
       "                                                    [key], {});\n",
       "        if (!dataTable) return;\n",
       "\n",
       "        const docLinkHtml = 'Like what you see? Visit the ' +\n",
       "          '<a target=\"_blank\" href=https://colab.research.google.com/notebooks/data_table.ipynb>data table notebook</a>'\n",
       "          + ' to learn more about interactive tables.';\n",
       "        element.innerHTML = '';\n",
       "        dataTable['output_type'] = 'display_data';\n",
       "        await google.colab.output.renderOutput(dataTable, element);\n",
       "        const docLink = document.createElement('div');\n",
       "        docLink.innerHTML = docLinkHtml;\n",
       "        element.appendChild(docLink);\n",
       "      }\n",
       "    </script>\n",
       "  </div>\n",
       "\n",
       "\n",
       "<div id=\"df-459a783c-d218-43ff-9045-4aa1eada430b\">\n",
       "  <button class=\"colab-df-quickchart\" onclick=\"quickchart('df-459a783c-d218-43ff-9045-4aa1eada430b')\"\n",
       "            title=\"Suggest charts.\"\n",
       "            style=\"display:none;\">\n",
       "\n",
       "<svg xmlns=\"http://www.w3.org/2000/svg\" height=\"24px\"viewBox=\"0 0 24 24\"\n",
       "     width=\"24px\">\n",
       "    <g>\n",
       "        <path d=\"M19 3H5c-1.1 0-2 .9-2 2v14c0 1.1.9 2 2 2h14c1.1 0 2-.9 2-2V5c0-1.1-.9-2-2-2zM9 17H7v-7h2v7zm4 0h-2V7h2v10zm4 0h-2v-4h2v4z\"/>\n",
       "    </g>\n",
       "</svg>\n",
       "  </button>\n",
       "\n",
       "<style>\n",
       "  .colab-df-quickchart {\n",
       "      --bg-color: #E8F0FE;\n",
       "      --fill-color: #1967D2;\n",
       "      --hover-bg-color: #E2EBFA;\n",
       "      --hover-fill-color: #174EA6;\n",
       "      --disabled-fill-color: #AAA;\n",
       "      --disabled-bg-color: #DDD;\n",
       "  }\n",
       "\n",
       "  [theme=dark] .colab-df-quickchart {\n",
       "      --bg-color: #3B4455;\n",
       "      --fill-color: #D2E3FC;\n",
       "      --hover-bg-color: #434B5C;\n",
       "      --hover-fill-color: #FFFFFF;\n",
       "      --disabled-bg-color: #3B4455;\n",
       "      --disabled-fill-color: #666;\n",
       "  }\n",
       "\n",
       "  .colab-df-quickchart {\n",
       "    background-color: var(--bg-color);\n",
       "    border: none;\n",
       "    border-radius: 50%;\n",
       "    cursor: pointer;\n",
       "    display: none;\n",
       "    fill: var(--fill-color);\n",
       "    height: 32px;\n",
       "    padding: 0;\n",
       "    width: 32px;\n",
       "  }\n",
       "\n",
       "  .colab-df-quickchart:hover {\n",
       "    background-color: var(--hover-bg-color);\n",
       "    box-shadow: 0 1px 2px rgba(60, 64, 67, 0.3), 0 1px 3px 1px rgba(60, 64, 67, 0.15);\n",
       "    fill: var(--button-hover-fill-color);\n",
       "  }\n",
       "\n",
       "  .colab-df-quickchart-complete:disabled,\n",
       "  .colab-df-quickchart-complete:disabled:hover {\n",
       "    background-color: var(--disabled-bg-color);\n",
       "    fill: var(--disabled-fill-color);\n",
       "    box-shadow: none;\n",
       "  }\n",
       "\n",
       "  .colab-df-spinner {\n",
       "    border: 2px solid var(--fill-color);\n",
       "    border-color: transparent;\n",
       "    border-bottom-color: var(--fill-color);\n",
       "    animation:\n",
       "      spin 1s steps(1) infinite;\n",
       "  }\n",
       "\n",
       "  @keyframes spin {\n",
       "    0% {\n",
       "      border-color: transparent;\n",
       "      border-bottom-color: var(--fill-color);\n",
       "      border-left-color: var(--fill-color);\n",
       "    }\n",
       "    20% {\n",
       "      border-color: transparent;\n",
       "      border-left-color: var(--fill-color);\n",
       "      border-top-color: var(--fill-color);\n",
       "    }\n",
       "    30% {\n",
       "      border-color: transparent;\n",
       "      border-left-color: var(--fill-color);\n",
       "      border-top-color: var(--fill-color);\n",
       "      border-right-color: var(--fill-color);\n",
       "    }\n",
       "    40% {\n",
       "      border-color: transparent;\n",
       "      border-right-color: var(--fill-color);\n",
       "      border-top-color: var(--fill-color);\n",
       "    }\n",
       "    60% {\n",
       "      border-color: transparent;\n",
       "      border-right-color: var(--fill-color);\n",
       "    }\n",
       "    80% {\n",
       "      border-color: transparent;\n",
       "      border-right-color: var(--fill-color);\n",
       "      border-bottom-color: var(--fill-color);\n",
       "    }\n",
       "    90% {\n",
       "      border-color: transparent;\n",
       "      border-bottom-color: var(--fill-color);\n",
       "    }\n",
       "  }\n",
       "</style>\n",
       "\n",
       "  <script>\n",
       "    async function quickchart(key) {\n",
       "      const quickchartButtonEl =\n",
       "        document.querySelector('#' + key + ' button');\n",
       "      quickchartButtonEl.disabled = true;  // To prevent multiple clicks.\n",
       "      quickchartButtonEl.classList.add('colab-df-spinner');\n",
       "      try {\n",
       "        const charts = await google.colab.kernel.invokeFunction(\n",
       "            'suggestCharts', [key], {});\n",
       "      } catch (error) {\n",
       "        console.error('Error during call to suggestCharts:', error);\n",
       "      }\n",
       "      quickchartButtonEl.classList.remove('colab-df-spinner');\n",
       "      quickchartButtonEl.classList.add('colab-df-quickchart-complete');\n",
       "    }\n",
       "    (() => {\n",
       "      let quickchartButtonEl =\n",
       "        document.querySelector('#df-459a783c-d218-43ff-9045-4aa1eada430b button');\n",
       "      quickchartButtonEl.style.display =\n",
       "        google.colab.kernel.accessAllowed ? 'block' : 'none';\n",
       "    })();\n",
       "  </script>\n",
       "</div>\n",
       "    </div>\n",
       "  </div>\n"
      ],
      "text/plain": [
       "        age  bmi  smoker  region  charges\n",
       "sex                                      \n",
       "female  225  225     225     225      225\n",
       "male    206  206     206     206      206"
      ]
     },
     "execution_count": 8,
     "metadata": {},
     "output_type": "execute_result"
    }
   ],
   "source": [
    "insurance.groupby(\"sex\").count()"
   ]
  },
  {
   "cell_type": "markdown",
   "metadata": {
    "id": "t5RLXnmRS8Rm"
   },
   "source": [
    "### 2."
   ]
  },
  {
   "cell_type": "code",
   "execution_count": 9,
   "metadata": {
    "colab": {
     "base_uri": "https://localhost:8080/"
    },
    "id": "Al4MR3_75Opq",
    "outputId": "7aa22b29-2887-4fcf-bf4a-751d281f3af3"
   },
   "outputs": [
    {
     "name": "stdout",
     "output_type": "stream",
     "text": [
      "<class 'pandas.core.frame.DataFrame'>\n",
      "RangeIndex: 431 entries, 0 to 430\n",
      "Data columns (total 6 columns):\n",
      " #   Column   Non-Null Count  Dtype  \n",
      "---  ------   --------------  -----  \n",
      " 0   age      431 non-null    int64  \n",
      " 1   sex      431 non-null    object \n",
      " 2   bmi      431 non-null    float64\n",
      " 3   smoker   431 non-null    object \n",
      " 4   region   431 non-null    object \n",
      " 5   charges  431 non-null    float64\n",
      "dtypes: float64(2), int64(1), object(3)\n",
      "memory usage: 20.3+ KB\n"
     ]
    }
   ],
   "source": [
    "insurance.info()"
   ]
  },
  {
   "cell_type": "markdown",
   "metadata": {
    "id": "b2zmo-_-woNd"
   },
   "source": [
    "No null values to drop from the dataset."
   ]
  },
  {
   "cell_type": "markdown",
   "metadata": {
    "id": "EdllKB3hS_3d"
   },
   "source": [
    "### 3."
   ]
  },
  {
   "cell_type": "markdown",
   "metadata": {
    "id": "ofzWW4UIxz3W"
   },
   "source": [
    "### Visualizations"
   ]
  },
  {
   "cell_type": "code",
   "execution_count": 10,
   "metadata": {
    "colab": {
     "base_uri": "https://localhost:8080/",
     "height": 514
    },
    "id": "GxTm9-fhwz5m",
    "outputId": "d49fbce9-04af-4abb-eed6-718129cf74b1"
   },
   "outputs": [
    {
     "data": {
      "image/png": "[encoded data removed]",
      "text/plain": [
       "<Figure size 640x480 with 1 Axes>"
      ]
     },
     "metadata": {
      "image/png": {
       "height": 480,
       "width": 640
      }
     },
     "output_type": "display_data"
    },
    {
     "data": {
      "text/plain": [
       "<Figure Size: (640 x 480)>"
      ]
     },
     "execution_count": 10,
     "metadata": {},
     "output_type": "execute_result"
    }
   ],
   "source": [
    "(ggplot(insurance,\n",
    "        aes(x = \"charges\",\n",
    "            fill = \"sex\"\n",
    "            ))\n",
    "+ geom_density(alpha = 0.5)\n",
    "+ labs(title = \"Density of Medical Costs Broken Down by Sex\", x = \"Medical Costs\", y = \"Density\")\n",
    ")"
   ]
  },
  {
   "cell_type": "markdown",
   "metadata": {
    "id": "SPeaCfHb0fPu"
   },
   "source": [
    "In the above density plot, the density of medical costs is displayed broken down by sex. For both sexes, the highest number of medical costs are low, showing that most people have lower medical costs overall. There are a higher number of females overall that have these lower medical costs, although they trend in the same two peaks as the men at around $300 and $1,200. The densities of both male and females lower as medical costs increase, with men having an additional peak at $3,600."
   ]
  },
  {
   "cell_type": "code",
   "execution_count": 11,
   "metadata": {
    "colab": {
     "base_uri": "https://localhost:8080/",
     "height": 514
    },
    "id": "WnmqSGpG4jc1",
    "outputId": "0b4052b2-b2f0-42cb-f549-6a33d6cfa957"
   },
   "outputs": [
    {
     "data": {
      "image/png": "[encoded data removed]",
      "text/plain": [
       "<Figure size 640x480 with 1 Axes>"
      ]
     },
     "metadata": {
      "image/png": {
       "height": 480,
       "width": 640
      }
     },
     "output_type": "display_data"
    },
    {
     "data": {
      "text/plain": [
       "<Figure Size: (640 x 480)>"
      ]
     },
     "execution_count": 11,
     "metadata": {},
     "output_type": "execute_result"
    }
   ],
   "source": [
    "(ggplot(insurance,\n",
    "        aes(x = \"age\",\n",
    "            y = \"charges\",\n",
    "            fill = \"smoker\"\n",
    "            ))\n",
    "+ geom_point()\n",
    "+ labs(title = \"Individual Age vs. Medical Costs\", x = \"Age\", y = \"Medical Costs\")\n",
    ")"
   ]
  },
  {
   "cell_type": "markdown",
   "metadata": {
    "id": "6TlznRqXyphz"
   },
   "source": [
    "This scatterplot of age vs. medical costs shows a clear linear relationship between a person's age and their medical costs. This positive relationship shows that as a person's age increases, so do their medical costs. This logically makes sense, as when most people get older they have more medical complications, leading to more medical bills. One interesting thing about this plot is that there are 3 clear groups of data. When coloring by whether the person is a smoker or not, interestingly we see that the lower and very tightly grouped data is completely comprised of non-smokers. As for the smokers, there are still 2 groups that I am interested in why they are separated."
   ]
  },
  {
   "cell_type": "code",
   "execution_count": 12,
   "metadata": {
    "colab": {
     "base_uri": "https://localhost:8080/",
     "height": 514
    },
    "id": "aCDQlIP72h6D",
    "outputId": "82724700-9667-47aa-d232-9e38e6b20a24"
   },
   "outputs": [
    {
     "data": {
      "image/png": "[encoded data removed]",
      "text/plain": [
       "<Figure size 640x480 with 1 Axes>"
      ]
     },
     "metadata": {
      "image/png": {
       "height": 480,
       "width": 640
      }
     },
     "output_type": "display_data"
    },
    {
     "data": {
      "text/plain": [
       "<Figure Size: (640 x 480)>"
      ]
     },
     "execution_count": 12,
     "metadata": {},
     "output_type": "execute_result"
    }
   ],
   "source": [
    "(ggplot(insurance,\n",
    "        aes(x = \"smoker\",\n",
    "            y = \"charges\",\n",
    "            fill = \"smoker\"\n",
    "            ))\n",
    "+ geom_boxplot()\n",
    "+ labs(x = \"Smoker\", y = \"Medical Costs\", title = \"Medical Costs of Smokers vs. Non-Smokers\")\n",
    ")"
   ]
  },
  {
   "cell_type": "markdown",
   "metadata": {
    "id": "pBZb_gc1x2WO"
   },
   "source": [
    "This boxplot of medical costs broken down by smokers vs. non-smokers shows a drastic difference in the average medical costs between the two groups. The average medical costs of non-smokers sits below 1,000, while the average medical costs of smokers is well above 3,000. In addition, the 75th percentile of non-smokers' medical costs is well underneath the 25th percentile of smokers' medical costs, further displaying the divide between the two groups of people."
   ]
  },
  {
   "cell_type": "markdown",
   "metadata": {
    "id": "j0IBEVQ61T_3"
   },
   "source": [
    "# Part Two: Simple Linear Models"
   ]
  },
  {
   "cell_type": "markdown",
   "metadata": {
    "id": "wyTOL0a0TDM9"
   },
   "source": [
    "### 1."
   ]
  },
  {
   "cell_type": "markdown",
   "metadata": {
    "id": "L0jryCoLLP28"
   },
   "source": [
    "### Model 1: Age as Predictor Variable"
   ]
  },
  {
   "cell_type": "code",
   "execution_count": 13,
   "metadata": {
    "id": "3AxSfzM93RHL"
   },
   "outputs": [],
   "source": [
    "X = insurance[['age']]\n",
    "y = insurance['charges']\n",
    "\n",
    "X_train, X_test, y_train, y_test = train_test_split(X, y, random_state = 5)"
   ]
  },
  {
   "cell_type": "code",
   "execution_count": 14,
   "metadata": {
    "id": "jdpXGhzd4nqc"
   },
   "outputs": [],
   "source": [
    "## Model Spec: Simple Linear Regression\n",
    "\n",
    "lr = LinearRegression()\n",
    "\n",
    "my_pipeline = Pipeline(\n",
    "  [('ols', lr)]\n",
    ")"
   ]
  },
  {
   "cell_type": "code",
   "execution_count": 15,
   "metadata": {
    "id": "_HNxlPIZ5Bbi"
   },
   "outputs": [],
   "source": [
    "fitted_pipeline = my_pipeline.fit(X_train, y_train)"
   ]
  },
  {
   "cell_type": "code",
   "execution_count": 16,
   "metadata": {
    "id": "AzWI19yP5Gfr"
   },
   "outputs": [],
   "source": [
    "y_preds = fitted_pipeline.predict(X_test)"
   ]
  },
  {
   "cell_type": "code",
   "execution_count": 17,
   "metadata": {
    "id": "8myekGXS7-C5"
   },
   "outputs": [],
   "source": [
    "plot_model_1 = X_test\n",
    "plot_model_1['charges'] = y_test\n",
    "plot_model_1['linear_predictions'] = y_preds"
   ]
  },
  {
   "cell_type": "code",
   "execution_count": 18,
   "metadata": {
    "colab": {
     "base_uri": "https://localhost:8080/",
     "height": 514
    },
    "id": "iVAYnbhC8z2z",
    "outputId": "813becc3-0192-4819-8150-ba1eba424e0c"
   },
   "outputs": [
    {
     "data": {
      "image/png": "[encoded data removed]",
      "text/plain": [
       "<Figure size 640x480 with 1 Axes>"
      ]
     },
     "metadata": {
      "image/png": {
       "height": 480,
       "width": 640
      }
     },
     "output_type": "display_data"
    },
    {
     "data": {
      "text/plain": [
       "<Figure Size: (640 x 480)>"
      ]
     },
     "execution_count": 18,
     "metadata": {},
     "output_type": "execute_result"
    }
   ],
   "source": [
    "(ggplot(plot_model_1,\n",
    "  aes(\n",
    "      x = \"age\",\n",
    "      y = \"charges\"\n",
    "))\n",
    "+ geom_point()\n",
    "+ geom_line(aes(y = \"linear_predictions\"), color = \"blue\")\n",
    ")"
   ]
  },
  {
   "cell_type": "code",
   "execution_count": 19,
   "metadata": {
    "id": "66Ta3d9O9gC8"
   },
   "outputs": [],
   "source": [
    "mse_model_1 = mean_squared_error(y_test, y_preds)\n",
    "r_sq_model_1 = r2_score(y_test, y_preds)"
   ]
  },
  {
   "cell_type": "code",
   "execution_count": 20,
   "metadata": {
    "colab": {
     "base_uri": "https://localhost:8080/"
    },
    "id": "Nu2lHuLgHk0l",
    "outputId": "81fe81c9-b4dc-4159-fb2e-b71f83172617"
   },
   "outputs": [
    {
     "data": {
      "text/plain": [
       "0.08838794754058032"
      ]
     },
     "execution_count": 20,
     "metadata": {},
     "output_type": "execute_result"
    }
   ],
   "source": [
    "r_sq_model_1"
   ]
  },
  {
   "cell_type": "code",
   "execution_count": 21,
   "metadata": {
    "colab": {
     "base_uri": "https://localhost:8080/"
    },
    "id": "JuYeu-GaHiCs",
    "outputId": "755bf5cc-1eab-4fef-85ea-1d8ecf4b11bd"
   },
   "outputs": [
    {
     "data": {
      "text/plain": [
       "127146604.81917322"
      ]
     },
     "execution_count": 21,
     "metadata": {},
     "output_type": "execute_result"
    }
   ],
   "source": [
    "mse_model_1"
   ]
  },
  {
   "cell_type": "markdown",
   "metadata": {
    "id": "x3wPtudpJvUo"
   },
   "source": [
    "Based off of the extremely low r-squared and very high MSE, the model appears to be performing poorly. This makes sense, as there are a lot of missing variables that would be helpful for predicting medical expenses."
   ]
  },
  {
   "cell_type": "code",
   "execution_count": 22,
   "metadata": {
    "id": "P_zO806k6VyO"
   },
   "outputs": [],
   "source": [
    "age_coef = fitted_pipeline.named_steps['ols'].coef_[0]\n",
    "model1_int = fitted_pipeline.named_steps['ols'].intercept_"
   ]
  },
  {
   "cell_type": "code",
   "execution_count": 23,
   "metadata": {
    "colab": {
     "base_uri": "https://localhost:8080/"
    },
    "id": "q6lnzjesHpzv",
    "outputId": "38351d4b-430e-4da2-9911-63eb71080790"
   },
   "outputs": [
    {
     "data": {
      "text/plain": [
       "231.51634193241955"
      ]
     },
     "execution_count": 23,
     "metadata": {},
     "output_type": "execute_result"
    }
   ],
   "source": [
    "age_coef"
   ]
  },
  {
   "cell_type": "code",
   "execution_count": 24,
   "metadata": {
    "colab": {
     "base_uri": "https://localhost:8080/"
    },
    "id": "iA-0SiDJHrF9",
    "outputId": "05cfe250-5219-4051-e206-656553f5678d"
   },
   "outputs": [
    {
     "data": {
      "text/plain": [
       "3395.309620492364"
      ]
     },
     "execution_count": 24,
     "metadata": {},
     "output_type": "execute_result"
    }
   ],
   "source": [
    "model1_int"
   ]
  },
  {
   "cell_type": "markdown",
   "metadata": {
    "id": "wEI1FZtqJ-wb"
   },
   "source": [
    "The coefficient estimates in context predict that for every year increase in age, the amount a person spends on medical costs will go up by roughly 231.52 dollars, starting at 3,395.31 dollars. The intercept in context likely should not be trusted, as there are no datapoints below the age of 18, meaning that an estimate at age 0 would be inaccurate."
   ]
  },
  {
   "cell_type": "markdown",
   "metadata": {
    "id": "x2CUeGTtTHNP"
   },
   "source": [
    "### 2."
   ]
  },
  {
   "cell_type": "markdown",
   "metadata": {
    "id": "CBmuHFUbLUOG"
   },
   "source": [
    "## Model 2: Age and Sex as Predictor Variables"
   ]
  },
  {
   "cell_type": "code",
   "execution_count": 25,
   "metadata": {
    "id": "tAqF6E6wLeIj"
   },
   "outputs": [],
   "source": [
    "X = insurance[['age','sex']]\n",
    "y = insurance['charges']\n",
    "\n",
    "X_train, X_test, y_train, y_test = train_test_split(X, y, random_state = 5)"
   ]
  },
  {
   "cell_type": "code",
   "execution_count": 26,
   "metadata": {
    "id": "BzB-PuV-Lk8z"
   },
   "outputs": [],
   "source": [
    "## Preprocessing: One-Hot-Encode\n",
    "## Model Spec: Linear Regression\n",
    "\n",
    "lr = LinearRegression()\n",
    "enc = OneHotEncoder(sparse_output = False)\n",
    "\n",
    "\n",
    "ct = ColumnTransformer(\n",
    "    [('dummify_sex', enc, ['sex'])], remainder = \"passthrough\"\n",
    ")\n",
    "\n",
    "my_pipeline = Pipeline(\n",
    "  [('dummify', ct), ('ols', lr)]\n",
    ").set_output(transform = \"pandas\")"
   ]
  },
  {
   "cell_type": "code",
   "execution_count": 28,
   "metadata": {
    "id": "gIyBpuCrLwHb"
   },
   "outputs": [],
   "source": [
    "fitted_pipeline = my_pipeline.fit(X_train, y_train)"
   ]
  },
  {
   "cell_type": "code",
   "execution_count": 29,
   "metadata": {
    "colab": {
     "base_uri": "https://localhost:8080/"
    },
    "id": "NVSaeYxzc_-U",
    "outputId": "4ea07367-7d87-4cc3-f42a-9cfe01d543b7"
   },
   "outputs": [
    {
     "data": {
      "text/plain": [
       "3440.633557635032"
      ]
     },
     "execution_count": 29,
     "metadata": {},
     "output_type": "execute_result"
    }
   ],
   "source": [
    "fitted_pipeline.named_steps['ols'].intercept_"
   ]
  },
  {
   "cell_type": "code",
   "execution_count": 30,
   "metadata": {
    "id": "xk_mrN1FMQDp"
   },
   "outputs": [],
   "source": [
    "y_preds = fitted_pipeline.predict(X_test)"
   ]
  },
  {
   "cell_type": "code",
   "execution_count": 31,
   "metadata": {
    "id": "votv7PqcMcjO"
   },
   "outputs": [],
   "source": [
    "mse_model_2 = mean_squared_error(y_test, y_preds)\n",
    "r_sq_model_2 = r2_score(y_test, y_preds)"
   ]
  },
  {
   "cell_type": "code",
   "execution_count": 32,
   "metadata": {
    "colab": {
     "base_uri": "https://localhost:8080/"
    },
    "id": "msGh3mfbMsaI",
    "outputId": "4457d79a-52d5-4e0e-c159-4b6c6b7ba77a"
   },
   "outputs": [
    {
     "data": {
      "text/plain": [
       "0.050705269492591576"
      ]
     },
     "execution_count": 32,
     "metadata": {},
     "output_type": "execute_result"
    }
   ],
   "source": [
    "r_sq_model_2"
   ]
  },
  {
   "cell_type": "code",
   "execution_count": 33,
   "metadata": {
    "colab": {
     "base_uri": "https://localhost:8080/"
    },
    "id": "BLeEYJbnMufR",
    "outputId": "9cf5221a-fe43-4b78-a5b3-1a7844e09143"
   },
   "outputs": [
    {
     "data": {
      "text/plain": [
       "132402376.24230173"
      ]
     },
     "execution_count": 33,
     "metadata": {},
     "output_type": "execute_result"
    }
   ],
   "source": [
    "mse_model_2"
   ]
  },
  {
   "cell_type": "markdown",
   "metadata": {
    "id": "uN5xrBnpMyOO"
   },
   "source": [
    "Due to the even lower R^2, we know that this model predicts worse than Model1. This, along with the extremely high MSE show this model is performing extremely poor and should not be used for this data."
   ]
  },
  {
   "cell_type": "markdown",
   "metadata": {
    "id": "Lyj2TkilTJC2"
   },
   "source": [
    "### 3."
   ]
  },
  {
   "cell_type": "markdown",
   "metadata": {
    "id": "aVKSg0lMOCuX"
   },
   "source": [
    "### Model 3: Age and Smoker as Predictor Variables"
   ]
  },
  {
   "cell_type": "code",
   "execution_count": 34,
   "metadata": {
    "id": "GYmEuHItOau1"
   },
   "outputs": [],
   "source": [
    "X = insurance[['age','smoker']]\n",
    "y = insurance['charges']\n",
    "\n",
    "X_train, X_test, y_train, y_test = train_test_split(X, y, random_state = 5)"
   ]
  },
  {
   "cell_type": "code",
   "execution_count": 35,
   "metadata": {
    "id": "QHjcXG0KOeai"
   },
   "outputs": [],
   "source": [
    "## Preprocessing: One-Hot-Encode\n",
    "## Model Spec: Linear Regression\n",
    "\n",
    "lr = LinearRegression()\n",
    "enc = OneHotEncoder(sparse_output = False)\n",
    "\n",
    "\n",
    "ct = ColumnTransformer(\n",
    "    [('dummify_smoker', enc, ['smoker'])], remainder = \"passthrough\"\n",
    ")\n",
    "\n",
    "my_pipeline = Pipeline(\n",
    "  [('dummify', ct), ('ols', lr)]\n",
    ")"
   ]
  },
  {
   "cell_type": "code",
   "execution_count": 36,
   "metadata": {
    "id": "BkCnZWVTOk0Y"
   },
   "outputs": [],
   "source": [
    "fitted_pipeline = my_pipeline.fit(X_train, y_train)\n",
    "y_preds = fitted_pipeline.predict(X_test)"
   ]
  },
  {
   "cell_type": "code",
   "execution_count": 37,
   "metadata": {
    "id": "4GMtxme_O_T8"
   },
   "outputs": [],
   "source": [
    "mse_model_3 = mean_squared_error(y_test, y_preds)\n",
    "r_sq_model_3 = r2_score(y_test, y_preds)\n",
    "num_variables_model_3 = 3"
   ]
  },
  {
   "cell_type": "code",
   "execution_count": 38,
   "metadata": {
    "colab": {
     "base_uri": "https://localhost:8080/"
    },
    "id": "L89dOC9fPFLM",
    "outputId": "d566690b-aa24-4af8-b70e-0c8f4adf29c6"
   },
   "outputs": [
    {
     "data": {
      "text/plain": [
       "0.6928395455537408"
      ]
     },
     "execution_count": 38,
     "metadata": {},
     "output_type": "execute_result"
    }
   ],
   "source": [
    "r_sq_model_3"
   ]
  },
  {
   "cell_type": "code",
   "execution_count": 39,
   "metadata": {
    "colab": {
     "base_uri": "https://localhost:8080/"
    },
    "id": "dsT8ATY3PHPG",
    "outputId": "5356cc7e-c5ca-460d-9788-e7c6c68ec556"
   },
   "outputs": [
    {
     "data": {
      "text/plain": [
       "42841040.56346345"
      ]
     },
     "execution_count": 39,
     "metadata": {},
     "output_type": "execute_result"
    }
   ],
   "source": [
    "mse_model_3"
   ]
  },
  {
   "cell_type": "markdown",
   "metadata": {
    "id": "HcfnCuoEPJcJ"
   },
   "source": [
    "Model 3 has a fair R^2 at 0.69, indicating that the model does a good job at predicting medical costs from age and whether or not the individual smokes. The MSE of 42,841,040 is also lower than both Model 1 and Model 2."
   ]
  },
  {
   "cell_type": "markdown",
   "metadata": {
    "id": "gLU7PXMrTKsq"
   },
   "source": [
    "### 4."
   ]
  },
  {
   "cell_type": "markdown",
   "metadata": {
    "id": "JvB8z9lBTSV9"
   },
   "source": [
    "It is clear based on the decent R^2 that comparatively to Model 2, Model 3 is the far superior model. This model outperforms using the metric of R^2 by a vast margin. In addition, the MSE for Model 3 is far below that of Model 2's, confirming that Model 3 is the superior model."
   ]
  },
  {
   "cell_type": "markdown",
   "metadata": {
    "id": "Z9De0Ua4T0F5"
   },
   "source": [
    "# Part Three: Multiple Linear Models"
   ]
  },
  {
   "cell_type": "markdown",
   "metadata": {
    "id": "8-Bgk5Sfz6Ch"
   },
   "source": [
    "### 1."
   ]
  },
  {
   "cell_type": "markdown",
   "metadata": {
    "id": "Y-XLAshyT958"
   },
   "source": [
    "### Model 4: Age and BMI as Predictor Variables"
   ]
  },
  {
   "cell_type": "code",
   "execution_count": 40,
   "metadata": {
    "id": "bEMFdWMUT52O"
   },
   "outputs": [],
   "source": [
    "X = insurance[['age','bmi']]\n",
    "y = insurance['charges']\n",
    "\n",
    "X_train, X_test, y_train, y_test = train_test_split(X, y, random_state = 5)"
   ]
  },
  {
   "cell_type": "code",
   "execution_count": 41,
   "metadata": {
    "id": "jmhBVNAfUFiw"
   },
   "outputs": [],
   "source": [
    "## Model Spec: Linear Regression\n",
    "\n",
    "lr = LinearRegression()\n",
    "\n",
    "my_pipeline = Pipeline(\n",
    "  [('ols', lr)]\n",
    ")"
   ]
  },
  {
   "cell_type": "code",
   "execution_count": 42,
   "metadata": {
    "id": "UR7ArEjXUFYz"
   },
   "outputs": [],
   "source": [
    "fitted_pipeline = my_pipeline.fit(X_train, y_train)\n",
    "y_preds = fitted_pipeline.predict(X_test)"
   ]
  },
  {
   "cell_type": "code",
   "execution_count": 43,
   "metadata": {
    "id": "cBDZ85tiUiSa"
   },
   "outputs": [],
   "source": [
    "mse_model_4 = mean_squared_error(y_test, y_preds)\n",
    "r_sq_model_4 = r2_score(y_test, y_preds)\n",
    "num_variables_model_4 = 2"
   ]
  },
  {
   "cell_type": "code",
   "execution_count": 44,
   "metadata": {
    "colab": {
     "base_uri": "https://localhost:8080/"
    },
    "id": "Pe4TtSm4VA1M",
    "outputId": "59453f40-efa9-4ffc-8677-e4d22c96f9f0"
   },
   "outputs": [
    {
     "data": {
      "text/plain": [
       "0.06281832604917958"
      ]
     },
     "execution_count": 44,
     "metadata": {},
     "output_type": "execute_result"
    }
   ],
   "source": [
    "r_sq_model_4"
   ]
  },
  {
   "cell_type": "code",
   "execution_count": 45,
   "metadata": {
    "colab": {
     "base_uri": "https://localhost:8080/"
    },
    "id": "c2ptz8AVVCoH",
    "outputId": "01e0dd0f-9892-4030-e02a-389d309762ae"
   },
   "outputs": [
    {
     "data": {
      "text/plain": [
       "130712914.13942836"
      ]
     },
     "execution_count": 45,
     "metadata": {},
     "output_type": "execute_result"
    }
   ],
   "source": [
    "mse_model_4"
   ]
  },
  {
   "cell_type": "markdown",
   "metadata": {
    "id": "3sgkqTz8VOiQ"
   },
   "source": [
    "Compared to Model 1, Model 4 has a lower R^2 and a higher MSE, meaning that Model 1 is superior."
   ]
  },
  {
   "cell_type": "markdown",
   "metadata": {
    "id": "o4iKl570z70X"
   },
   "source": [
    "### 2."
   ]
  },
  {
   "cell_type": "markdown",
   "metadata": {
    "id": "NdKkcJrRXugu"
   },
   "source": [
    "## Model 5: Age and Age^2 as Predictor Variables"
   ]
  },
  {
   "cell_type": "code",
   "execution_count": 46,
   "metadata": {
    "id": "Ud8b3d8EX9co"
   },
   "outputs": [],
   "source": [
    "X = insurance[['age']]\n",
    "y = insurance['charges']\n",
    "\n",
    "X_train, X_test, y_train, y_test = train_test_split(X, y, random_state = 5)"
   ]
  },
  {
   "cell_type": "code",
   "execution_count": 47,
   "metadata": {
    "id": "ISTjJyXfXcBp"
   },
   "outputs": [],
   "source": [
    "## Preprocessing: Polynomial Deg 2\n",
    "## Model Spec: Linear Regression\n",
    "\n",
    "lr = LinearRegression()\n",
    "poly = PolynomialFeatures(2)\n",
    "\n",
    "ct = ColumnTransformer(\n",
    "    [('square_age', poly, ['age'])]\n",
    ")\n",
    "\n",
    "my_pipeline = Pipeline(\n",
    "  [('poly' , poly), ('ols', lr)]\n",
    ")"
   ]
  },
  {
   "cell_type": "code",
   "execution_count": 48,
   "metadata": {
    "id": "Uv3znWE3YYuE"
   },
   "outputs": [],
   "source": [
    "fitted_pipeline = my_pipeline.fit(X_train, y_train)\n",
    "y_preds = fitted_pipeline.predict(X_test)"
   ]
  },
  {
   "cell_type": "code",
   "execution_count": 49,
   "metadata": {
    "id": "e_LIu398YbMU"
   },
   "outputs": [],
   "source": [
    "mse_model_5 = mean_squared_error(y_test, y_preds)\n",
    "r_sq_model_5 = r2_score(y_test, y_preds)\n",
    "num_variables_model_5 = 2"
   ]
  },
  {
   "cell_type": "code",
   "execution_count": 50,
   "metadata": {
    "colab": {
     "base_uri": "https://localhost:8080/"
    },
    "id": "oUDaFE7qzd_I",
    "outputId": "7e62453b-f89c-4db4-b41a-b03fe60f3c78"
   },
   "outputs": [
    {
     "data": {
      "text/plain": [
       "0.08797972583855074"
      ]
     },
     "execution_count": 50,
     "metadata": {},
     "output_type": "execute_result"
    }
   ],
   "source": [
    "r_sq_model_5"
   ]
  },
  {
   "cell_type": "code",
   "execution_count": 51,
   "metadata": {
    "colab": {
     "base_uri": "https://localhost:8080/"
    },
    "id": "7gaXPavtYkQK",
    "outputId": "23766b43-067f-4c2c-a597-aec65962cd57"
   },
   "outputs": [
    {
     "data": {
      "text/plain": [
       "127203541.32334353"
      ]
     },
     "execution_count": 51,
     "metadata": {},
     "output_type": "execute_result"
    }
   ],
   "source": [
    "mse_model_5"
   ]
  },
  {
   "cell_type": "markdown",
   "metadata": {
    "id": "-pilqJ22z-Pp"
   },
   "source": [
    "When compared to Model 1, Model 5 has a slightly lower R^2 and a higher MSE, meaning that Model 1 is the superior model."
   ]
  },
  {
   "cell_type": "markdown",
   "metadata": {
    "id": "Hm0WrUbI1agA"
   },
   "source": [
    "### 3."
   ]
  },
  {
   "cell_type": "markdown",
   "metadata": {
    "id": "_DcqO8jL2OKV"
   },
   "source": [
    "### Model 6: Age, Age^2, Age^3 and Age^4 as Predictor Variables"
   ]
  },
  {
   "cell_type": "code",
   "execution_count": 52,
   "metadata": {
    "id": "C0uDuG_Q0Z_Q"
   },
   "outputs": [],
   "source": [
    "X = insurance[['age']]\n",
    "y = insurance['charges']\n",
    "\n",
    "X_train, X_test, y_train, y_test = train_test_split(X, y, random_state = 5)"
   ]
  },
  {
   "cell_type": "code",
   "execution_count": 53,
   "metadata": {
    "id": "7u3F2i2G1gHS"
   },
   "outputs": [],
   "source": [
    "## Preprocessing: Polynomial Deg 4\n",
    "## Model Spec: Linear Regression\n",
    "\n",
    "lr = LinearRegression()\n",
    "poly = PolynomialFeatures(4)\n",
    "\n",
    "ct = ColumnTransformer(\n",
    "    [('quad_age', poly, ['age'])]\n",
    ")\n",
    "\n",
    "my_pipeline = Pipeline(\n",
    "  [('poly' , poly), ('ols', lr)]\n",
    ")"
   ]
  },
  {
   "cell_type": "code",
   "execution_count": 54,
   "metadata": {
    "id": "tlRmtxOo14OQ"
   },
   "outputs": [],
   "source": [
    "fitted_pipeline = my_pipeline.fit(X_train, y_train)\n",
    "y_preds = fitted_pipeline.predict(X_test)"
   ]
  },
  {
   "cell_type": "code",
   "execution_count": 55,
   "metadata": {
    "id": "WOMn-O7Z2HOg"
   },
   "outputs": [],
   "source": [
    "mse_model_6 = mean_squared_error(y_test, y_preds)\n",
    "r_sq_model_6 = r2_score(y_test, y_preds)\n",
    "num_variables_model_6 = 4"
   ]
  },
  {
   "cell_type": "code",
   "execution_count": 56,
   "metadata": {
    "colab": {
     "base_uri": "https://localhost:8080/"
    },
    "id": "vH1uIvQt2Kr9",
    "outputId": "84c43273-3555-4217-a2ac-29bee017d3ba"
   },
   "outputs": [
    {
     "data": {
      "text/plain": [
       "0.10372840971526576"
      ]
     },
     "execution_count": 56,
     "metadata": {},
     "output_type": "execute_result"
    }
   ],
   "source": [
    "r_sq_model_6"
   ]
  },
  {
   "cell_type": "code",
   "execution_count": 57,
   "metadata": {
    "colab": {
     "base_uri": "https://localhost:8080/"
    },
    "id": "Tp6vuE8c2MG7",
    "outputId": "2c48c587-b237-44da-ec1e-0921ffa69d8d"
   },
   "outputs": [
    {
     "data": {
      "text/plain": [
       "125007002.03901468"
      ]
     },
     "execution_count": 57,
     "metadata": {},
     "output_type": "execute_result"
    }
   ],
   "source": [
    "mse_model_6"
   ]
  },
  {
   "cell_type": "markdown",
   "metadata": {
    "id": "UeiS6XqT3URw"
   },
   "source": [
    "Model 6 has a higher R^2 and lower MSE than Model 1, making it the superior model."
   ]
  },
  {
   "cell_type": "markdown",
   "metadata": {
    "id": "vwLZqC427b3f"
   },
   "source": [
    "### 4."
   ]
  },
  {
   "cell_type": "markdown",
   "metadata": {
    "id": "jXoWj3D-3VP7"
   },
   "source": [
    "### Model 7: Age, Age^2 ... Age^12 as Predictor Variables"
   ]
  },
  {
   "cell_type": "code",
   "execution_count": 58,
   "metadata": {
    "id": "R7HZVQfO3dNU"
   },
   "outputs": [],
   "source": [
    "X = insurance[['age']]\n",
    "y = insurance['charges']\n",
    "\n",
    "X_train, X_test, y_train, y_test = train_test_split(X, y, random_state = 5)"
   ]
  },
  {
   "cell_type": "code",
   "execution_count": 59,
   "metadata": {
    "id": "mwlJBaxo3fqa"
   },
   "outputs": [],
   "source": [
    "## Preprocessing: Polynomial Deg 10\n",
    "## Model Spec: Linear Regression\n",
    "\n",
    "lr = LinearRegression()\n",
    "poly = PolynomialFeatures(12)\n",
    "\n",
    "ct = ColumnTransformer(\n",
    "    [('deg12_age', poly, ['age'])]\n",
    ")\n",
    "\n",
    "my_pipeline = Pipeline(\n",
    "  [('poly' , poly), ('ols', lr)]\n",
    ")"
   ]
  },
  {
   "cell_type": "code",
   "execution_count": 60,
   "metadata": {
    "id": "xaFWFNnO3knk"
   },
   "outputs": [],
   "source": [
    "fitted_pipeline = my_pipeline.fit(X_train, y_train)\n",
    "y_preds = fitted_pipeline.predict(X_test)"
   ]
  },
  {
   "cell_type": "code",
   "execution_count": 61,
   "metadata": {
    "id": "U09ZsPmy3m67"
   },
   "outputs": [],
   "source": [
    "mse_model_7 = mean_squared_error(y_test, y_preds)\n",
    "r_sq_model_7 = r2_score(y_test, y_preds)\n",
    "num_variables_model_7 = 12"
   ]
  },
  {
   "cell_type": "code",
   "execution_count": 62,
   "metadata": {
    "colab": {
     "base_uri": "https://localhost:8080/"
    },
    "id": "9DMNVXhm4zNu",
    "outputId": "02d957dc-9ac2-498e-bf6e-119ea8ac3dca"
   },
   "outputs": [
    {
     "data": {
      "text/plain": [
       "0.07967091779883162"
      ]
     },
     "execution_count": 62,
     "metadata": {},
     "output_type": "execute_result"
    }
   ],
   "source": [
    "r_sq_model_7"
   ]
  },
  {
   "cell_type": "code",
   "execution_count": 63,
   "metadata": {
    "colab": {
     "base_uri": "https://localhost:8080/"
    },
    "id": "oCTXiT2o42W_",
    "outputId": "00dabac3-eb3d-4b9a-fe08-829ecb4aa852"
   },
   "outputs": [
    {
     "data": {
      "text/plain": [
       "128362407.89327796"
      ]
     },
     "execution_count": 63,
     "metadata": {},
     "output_type": "execute_result"
    }
   ],
   "source": [
    "mse_model_7"
   ]
  },
  {
   "cell_type": "markdown",
   "metadata": {
    "id": "byveIhM245gO"
   },
   "source": [
    "The R^2 of Model 7 is lower than Model 1, and the MSE is higher than Model 1. Therefore, Model 1 would be considered a superior model."
   ]
  },
  {
   "cell_type": "markdown",
   "metadata": {
    "id": "LBKU9IPQ7dwn"
   },
   "source": [
    "### 5."
   ]
  },
  {
   "cell_type": "markdown",
   "metadata": {
    "id": "vBypjDQN7UZu"
   },
   "source": [
    "According to the R^2 and MSE, Model 6 is superior with an R^2 of 0.1037 and a MSE of 125,007,002.04. I would agree that out of these models it is the best option, because it conforms to the data without overfitting like we saw with model 7. It is the happy medium that allows for enhanced predictions without being only usable on this particular set of data."
   ]
  },
  {
   "cell_type": "markdown",
   "metadata": {
    "id": "sKfm7ja8ASs2"
   },
   "source": [
    "### 6."
   ]
  },
  {
   "cell_type": "code",
   "execution_count": 64,
   "metadata": {
    "id": "lNgSWnk-AUb0"
   },
   "outputs": [],
   "source": [
    "plot_model_7 = X_test\n",
    "plot_model_7['charges'] = y_test\n",
    "plot_model_7['deg_12_predictions'] = y_preds"
   ]
  },
  {
   "cell_type": "code",
   "execution_count": 65,
   "metadata": {
    "colab": {
     "base_uri": "https://localhost:8080/",
     "height": 514
    },
    "id": "sOX_h9hE-BB0",
    "outputId": "4994ff41-d704-46bb-a586-12b45e78cf7f"
   },
   "outputs": [
    {
     "data": {
      "image/png": "[encoded data removed]",
      "text/plain": [
       "<Figure size 640x480 with 1 Axes>"
      ]
     },
     "metadata": {
      "image/png": {
       "height": 480,
       "width": 640
      }
     },
     "output_type": "display_data"
    },
    {
     "data": {
      "text/plain": [
       "<Figure Size: (640 x 480)>"
      ]
     },
     "execution_count": 65,
     "metadata": {},
     "output_type": "execute_result"
    }
   ],
   "source": [
    "(ggplot(plot_model_7,\n",
    "  aes(\n",
    "      x = \"age\",\n",
    "      y = \"charges\"\n",
    "))\n",
    "+ geom_point()\n",
    "+ geom_line(aes(y = \"deg_12_predictions\"), color = \"blue\")\n",
    ")"
   ]
  },
  {
   "cell_type": "markdown",
   "metadata": {
    "id": "tIpzDloNCJlT"
   },
   "source": [
    "# Part Four: New Data"
   ]
  },
  {
   "cell_type": "code",
   "execution_count": 66,
   "metadata": {
    "id": "S7dvig1lCStJ"
   },
   "outputs": [],
   "source": [
    "insurance2 = pd.read_csv(\"https://www.dropbox.com/s/sky86agc4s8c6qe/insurance_costs_2.csv?dl=1\")"
   ]
  },
  {
   "cell_type": "markdown",
   "metadata": {
    "id": "rIT9rjGq2xkf"
   },
   "source": [
    "### Model 8: Age as Predictor Variable"
   ]
  },
  {
   "cell_type": "code",
   "execution_count": 67,
   "metadata": {
    "id": "i5e8kBAXDw3J"
   },
   "outputs": [],
   "source": [
    "X_train = insurance[['age']]\n",
    "y_train = insurance['charges']\n",
    "\n",
    "X_test = insurance2[['age']]\n",
    "y_test = insurance2['charges']\n",
    "\n",
    "lr = LinearRegression()\n",
    "\n",
    "my_pipeline = Pipeline(\n",
    "  [('ols', lr)]\n",
    ")\n",
    "\n",
    "fitted_pipeline = my_pipeline.fit(X_train, y_train)\n",
    "y_preds = fitted_pipeline.predict(X_test)\n",
    "\n",
    "mse_model_8 = mean_squared_error(y_test, y_preds)\n",
    "r_sq_model_8 = r2_score(y_test, y_preds)"
   ]
  },
  {
   "cell_type": "code",
   "execution_count": 68,
   "metadata": {
    "colab": {
     "base_uri": "https://localhost:8080/"
    },
    "id": "m24YnuJ73pHS",
    "outputId": "1afda6ae-8752-49f4-8062-45a4dd4c3f0b"
   },
   "outputs": [
    {
     "data": {
      "text/plain": [
       "0.12236515675533055"
      ]
     },
     "execution_count": 68,
     "metadata": {},
     "output_type": "execute_result"
    }
   ],
   "source": [
    "r_sq_model_8"
   ]
  },
  {
   "cell_type": "code",
   "execution_count": 69,
   "metadata": {
    "colab": {
     "base_uri": "https://localhost:8080/"
    },
    "id": "lIqdegHl3yQE",
    "outputId": "dee27d04-f2aa-4e0d-e66a-24cb2e4cad8c"
   },
   "outputs": [
    {
     "data": {
      "text/plain": [
       "136077136.50195494"
      ]
     },
     "execution_count": 69,
     "metadata": {},
     "output_type": "execute_result"
    }
   ],
   "source": [
    "mse_model_8"
   ]
  },
  {
   "cell_type": "markdown",
   "metadata": {
    "id": "tBd-oNPX4W4P"
   },
   "source": [
    "### Model 9: Age and BMI as Predictor Variables"
   ]
  },
  {
   "cell_type": "code",
   "execution_count": 70,
   "metadata": {
    "id": "C0mFYFQk4gIc"
   },
   "outputs": [],
   "source": [
    "X_train = insurance[['age', 'bmi']]\n",
    "y_train = insurance['charges']\n",
    "\n",
    "X_test = insurance2[['age', 'bmi']]\n",
    "y_test = insurance2['charges']\n",
    "\n",
    "lr = LinearRegression()\n",
    "\n",
    "my_pipeline = Pipeline(\n",
    "  [('ols', lr)]\n",
    ")\n",
    "\n",
    "fitted_pipeline = my_pipeline.fit(X_train, y_train)\n",
    "y_preds = fitted_pipeline.predict(X_test)\n",
    "\n",
    "mse_model_9 = mean_squared_error(y_test, y_preds)\n",
    "r_sq_model_9 = r2_score(y_test, y_preds)"
   ]
  },
  {
   "cell_type": "code",
   "execution_count": 71,
   "metadata": {
    "colab": {
     "base_uri": "https://localhost:8080/"
    },
    "id": "T7LJex1f4lhU",
    "outputId": "609028e3-96cf-431d-ca9f-8ace0f761876"
   },
   "outputs": [
    {
     "data": {
      "text/plain": [
       "0.14455628272331222"
      ]
     },
     "execution_count": 71,
     "metadata": {},
     "output_type": "execute_result"
    }
   ],
   "source": [
    "r_sq_model_9"
   ]
  },
  {
   "cell_type": "code",
   "execution_count": 72,
   "metadata": {
    "colab": {
     "base_uri": "https://localhost:8080/"
    },
    "id": "RgKynfzD4p13",
    "outputId": "7485a8fe-06d4-4cfb-e2ed-868da723d82a"
   },
   "outputs": [
    {
     "data": {
      "text/plain": [
       "132636406.1108129"
      ]
     },
     "execution_count": 72,
     "metadata": {},
     "output_type": "execute_result"
    }
   ],
   "source": [
    "mse_model_9"
   ]
  },
  {
   "cell_type": "markdown",
   "metadata": {
    "id": "OZ8OkdQG4wLz"
   },
   "source": [
    "### Model 10: Age, BMI, and Smoker as Predictor Variables"
   ]
  },
  {
   "cell_type": "code",
   "execution_count": 73,
   "metadata": {
    "id": "rwQPaClmDO8u"
   },
   "outputs": [],
   "source": [
    "X_train = insurance[['age', 'bmi', 'smoker']]\n",
    "y_train = insurance['charges']\n",
    "\n",
    "X_test = insurance2[['age', 'bmi', 'smoker']]\n",
    "y_test = insurance2['charges']\n",
    "\n",
    "## Preprocessing: One-Hot-Encode\n",
    "## Model Spec: Linear Regression\n",
    "\n",
    "lr = LinearRegression()\n",
    "enc = OneHotEncoder(sparse_output = False)\n",
    "\n",
    "\n",
    "ct = ColumnTransformer(\n",
    "    [('dummify_smoker', enc, ['smoker'])], remainder = \"passthrough\"\n",
    ")\n",
    "\n",
    "my_pipeline = Pipeline(\n",
    "  [('dummify', ct), ('ols', lr)]\n",
    ")\n",
    "\n",
    "fitted_pipeline = my_pipeline.fit(X_train, y_train)\n",
    "y_preds = fitted_pipeline.predict(X_test)\n",
    "\n",
    "mse_model_10 = mean_squared_error(y_test, y_preds)\n",
    "r_sq_model_10 = r2_score(y_test, y_preds)"
   ]
  },
  {
   "cell_type": "code",
   "execution_count": 74,
   "metadata": {
    "colab": {
     "base_uri": "https://localhost:8080/"
    },
    "id": "pD-VXcm45Rye",
    "outputId": "54230766-0bcc-4f18-e9e9-cd67e887f547"
   },
   "outputs": [
    {
     "data": {
      "text/plain": [
       "0.7718311565047792"
      ]
     },
     "execution_count": 74,
     "metadata": {},
     "output_type": "execute_result"
    }
   ],
   "source": [
    "r_sq_model_10"
   ]
  },
  {
   "cell_type": "code",
   "execution_count": 75,
   "metadata": {
    "colab": {
     "base_uri": "https://localhost:8080/"
    },
    "id": "YPVf_rlX5T4x",
    "outputId": "85e6e2d3-7050-4c0e-e9db-3650632d42cc"
   },
   "outputs": [
    {
     "data": {
      "text/plain": [
       "35377541.241416454"
      ]
     },
     "execution_count": 75,
     "metadata": {},
     "output_type": "execute_result"
    }
   ],
   "source": [
    "mse_model_10"
   ]
  },
  {
   "cell_type": "markdown",
   "metadata": {
    "id": "yPR08GfS5XCj"
   },
   "source": [
    "### Model 11: Age and BMI, with Both Having an Interaction Term with Smoker"
   ]
  },
  {
   "cell_type": "code",
   "execution_count": 76,
   "metadata": {
    "id": "AT9hSXCh8IzX"
   },
   "outputs": [],
   "source": [
    "model_11_training_data = pd.get_dummies(insurance, columns = ['smoker'])\n",
    "model_11_training_data['age*smoker'] = model_11_training_data['age'] * model_11_training_data['smoker_no']\n",
    "model_11_training_data['bmi*smoker'] = model_11_training_data['bmi'] * model_11_training_data['smoker_no']\n",
    "\n",
    "model_11_testing_data = pd.get_dummies(insurance2, columns = ['smoker'])\n",
    "model_11_testing_data['age*smoker'] = model_11_testing_data['age'] * model_11_testing_data['smoker_no']\n",
    "model_11_testing_data['bmi*smoker'] = model_11_testing_data['bmi'] * model_11_testing_data['smoker_no']"
   ]
  },
  {
   "cell_type": "code",
   "execution_count": 77,
   "metadata": {
    "colab": {
     "base_uri": "https://localhost:8080/",
     "height": 226
    },
    "id": "PQAHMxRc9tCR",
    "outputId": "ff1f6086-bc88-4c7f-9975-f523b614475a"
   },
   "outputs": [
    {
     "data": {
      "text/html": [
       "\n",
       "  <div id=\"df-11508514-d77e-420d-872e-e48e70a2eff0\" class=\"colab-df-container\">\n",
       "    <div>\n",
       "<style scoped>\n",
       "    .dataframe tbody tr th:only-of-type {\n",
       "        vertical-align: middle;\n",
       "    }\n",
       "\n",
       "    .dataframe tbody tr th {\n",
       "        vertical-align: top;\n",
       "    }\n",
       "\n",
       "    .dataframe thead th {\n",
       "        text-align: right;\n",
       "    }\n",
       "</style>\n",
       "<table border=\"1\" class=\"dataframe\">\n",
       "  <thead>\n",
       "    <tr style=\"text-align: right;\">\n",
       "      <th></th>\n",
       "      <th>age</th>\n",
       "      <th>sex</th>\n",
       "      <th>bmi</th>\n",
       "      <th>region</th>\n",
       "      <th>charges</th>\n",
       "      <th>smoker_no</th>\n",
       "      <th>smoker_yes</th>\n",
       "      <th>age*smoker</th>\n",
       "      <th>bmi*smoker</th>\n",
       "    </tr>\n",
       "  </thead>\n",
       "  <tbody>\n",
       "    <tr>\n",
       "      <th>0</th>\n",
       "      <td>19</td>\n",
       "      <td>female</td>\n",
       "      <td>27.900</td>\n",
       "      <td>southwest</td>\n",
       "      <td>16884.92400</td>\n",
       "      <td>0</td>\n",
       "      <td>1</td>\n",
       "      <td>0</td>\n",
       "      <td>0.000</td>\n",
       "    </tr>\n",
       "    <tr>\n",
       "      <th>1</th>\n",
       "      <td>33</td>\n",
       "      <td>male</td>\n",
       "      <td>22.705</td>\n",
       "      <td>northwest</td>\n",
       "      <td>21984.47061</td>\n",
       "      <td>1</td>\n",
       "      <td>0</td>\n",
       "      <td>33</td>\n",
       "      <td>22.705</td>\n",
       "    </tr>\n",
       "    <tr>\n",
       "      <th>2</th>\n",
       "      <td>32</td>\n",
       "      <td>male</td>\n",
       "      <td>28.880</td>\n",
       "      <td>northwest</td>\n",
       "      <td>3866.85520</td>\n",
       "      <td>1</td>\n",
       "      <td>0</td>\n",
       "      <td>32</td>\n",
       "      <td>28.880</td>\n",
       "    </tr>\n",
       "    <tr>\n",
       "      <th>3</th>\n",
       "      <td>31</td>\n",
       "      <td>female</td>\n",
       "      <td>25.740</td>\n",
       "      <td>southeast</td>\n",
       "      <td>3756.62160</td>\n",
       "      <td>1</td>\n",
       "      <td>0</td>\n",
       "      <td>31</td>\n",
       "      <td>25.740</td>\n",
       "    </tr>\n",
       "    <tr>\n",
       "      <th>4</th>\n",
       "      <td>60</td>\n",
       "      <td>female</td>\n",
       "      <td>25.840</td>\n",
       "      <td>northwest</td>\n",
       "      <td>28923.13692</td>\n",
       "      <td>1</td>\n",
       "      <td>0</td>\n",
       "      <td>60</td>\n",
       "      <td>25.840</td>\n",
       "    </tr>\n",
       "  </tbody>\n",
       "</table>\n",
       "</div>\n",
       "    <div class=\"colab-df-buttons\">\n",
       "\n",
       "  <div class=\"colab-df-container\">\n",
       "    <button class=\"colab-df-convert\" onclick=\"convertToInteractive('df-11508514-d77e-420d-872e-e48e70a2eff0')\"\n",
       "            title=\"Convert this dataframe to an interactive table.\"\n",
       "            style=\"display:none;\">\n",
       "\n",
       "  <svg xmlns=\"http://www.w3.org/2000/svg\" height=\"24px\" viewBox=\"0 -960 960 960\">\n",
       "    <path d=\"M120-120v-720h720v720H120Zm60-500h600v-160H180v160Zm220 220h160v-160H400v160Zm0 220h160v-160H400v160ZM180-400h160v-160H180v160Zm440 0h160v-160H620v160ZM180-180h160v-160H180v160Zm440 0h160v-160H620v160Z\"/>\n",
       "  </svg>\n",
       "    </button>\n",
       "\n",
       "  <style>\n",
       "    .colab-df-container {\n",
       "      display:flex;\n",
       "      gap: 12px;\n",
       "    }\n",
       "\n",
       "    .colab-df-convert {\n",
       "      background-color: #E8F0FE;\n",
       "      border: none;\n",
       "      border-radius: 50%;\n",
       "      cursor: pointer;\n",
       "      display: none;\n",
       "      fill: #1967D2;\n",
       "      height: 32px;\n",
       "      padding: 0 0 0 0;\n",
       "      width: 32px;\n",
       "    }\n",
       "\n",
       "    .colab-df-convert:hover {\n",
       "      background-color: #E2EBFA;\n",
       "      box-shadow: 0px 1px 2px rgba(60, 64, 67, 0.3), 0px 1px 3px 1px rgba(60, 64, 67, 0.15);\n",
       "      fill: #174EA6;\n",
       "    }\n",
       "\n",
       "    .colab-df-buttons div {\n",
       "      margin-bottom: 4px;\n",
       "    }\n",
       "\n",
       "    [theme=dark] .colab-df-convert {\n",
       "      background-color: #3B4455;\n",
       "      fill: #D2E3FC;\n",
       "    }\n",
       "\n",
       "    [theme=dark] .colab-df-convert:hover {\n",
       "      background-color: #434B5C;\n",
       "      box-shadow: 0px 1px 3px 1px rgba(0, 0, 0, 0.15);\n",
       "      filter: drop-shadow(0px 1px 2px rgba(0, 0, 0, 0.3));\n",
       "      fill: #FFFFFF;\n",
       "    }\n",
       "  </style>\n",
       "\n",
       "    <script>\n",
       "      const buttonEl =\n",
       "        document.querySelector('#df-11508514-d77e-420d-872e-e48e70a2eff0 button.colab-df-convert');\n",
       "      buttonEl.style.display =\n",
       "        google.colab.kernel.accessAllowed ? 'block' : 'none';\n",
       "\n",
       "      async function convertToInteractive(key) {\n",
       "        const element = document.querySelector('#df-11508514-d77e-420d-872e-e48e70a2eff0');\n",
       "        const dataTable =\n",
       "          await google.colab.kernel.invokeFunction('convertToInteractive',\n",
       "                                                    [key], {});\n",
       "        if (!dataTable) return;\n",
       "\n",
       "        const docLinkHtml = 'Like what you see? Visit the ' +\n",
       "          '<a target=\"_blank\" href=https://colab.research.google.com/notebooks/data_table.ipynb>data table notebook</a>'\n",
       "          + ' to learn more about interactive tables.';\n",
       "        element.innerHTML = '';\n",
       "        dataTable['output_type'] = 'display_data';\n",
       "        await google.colab.output.renderOutput(dataTable, element);\n",
       "        const docLink = document.createElement('div');\n",
       "        docLink.innerHTML = docLinkHtml;\n",
       "        element.appendChild(docLink);\n",
       "      }\n",
       "    </script>\n",
       "  </div>\n",
       "\n",
       "\n",
       "<div id=\"df-e51312d2-4cac-42c0-ad44-4892c0e1a94e\">\n",
       "  <button class=\"colab-df-quickchart\" onclick=\"quickchart('df-e51312d2-4cac-42c0-ad44-4892c0e1a94e')\"\n",
       "            title=\"Suggest charts.\"\n",
       "            style=\"display:none;\">\n",
       "\n",
       "<svg xmlns=\"http://www.w3.org/2000/svg\" height=\"24px\"viewBox=\"0 0 24 24\"\n",
       "     width=\"24px\">\n",
       "    <g>\n",
       "        <path d=\"M19 3H5c-1.1 0-2 .9-2 2v14c0 1.1.9 2 2 2h14c1.1 0 2-.9 2-2V5c0-1.1-.9-2-2-2zM9 17H7v-7h2v7zm4 0h-2V7h2v10zm4 0h-2v-4h2v4z\"/>\n",
       "    </g>\n",
       "</svg>\n",
       "  </button>\n",
       "\n",
       "<style>\n",
       "  .colab-df-quickchart {\n",
       "      --bg-color: #E8F0FE;\n",
       "      --fill-color: #1967D2;\n",
       "      --hover-bg-color: #E2EBFA;\n",
       "      --hover-fill-color: #174EA6;\n",
       "      --disabled-fill-color: #AAA;\n",
       "      --disabled-bg-color: #DDD;\n",
       "  }\n",
       "\n",
       "  [theme=dark] .colab-df-quickchart {\n",
       "      --bg-color: #3B4455;\n",
       "      --fill-color: #D2E3FC;\n",
       "      --hover-bg-color: #434B5C;\n",
       "      --hover-fill-color: #FFFFFF;\n",
       "      --disabled-bg-color: #3B4455;\n",
       "      --disabled-fill-color: #666;\n",
       "  }\n",
       "\n",
       "  .colab-df-quickchart {\n",
       "    background-color: var(--bg-color);\n",
       "    border: none;\n",
       "    border-radius: 50%;\n",
       "    cursor: pointer;\n",
       "    display: none;\n",
       "    fill: var(--fill-color);\n",
       "    height: 32px;\n",
       "    padding: 0;\n",
       "    width: 32px;\n",
       "  }\n",
       "\n",
       "  .colab-df-quickchart:hover {\n",
       "    background-color: var(--hover-bg-color);\n",
       "    box-shadow: 0 1px 2px rgba(60, 64, 67, 0.3), 0 1px 3px 1px rgba(60, 64, 67, 0.15);\n",
       "    fill: var(--button-hover-fill-color);\n",
       "  }\n",
       "\n",
       "  .colab-df-quickchart-complete:disabled,\n",
       "  .colab-df-quickchart-complete:disabled:hover {\n",
       "    background-color: var(--disabled-bg-color);\n",
       "    fill: var(--disabled-fill-color);\n",
       "    box-shadow: none;\n",
       "  }\n",
       "\n",
       "  .colab-df-spinner {\n",
       "    border: 2px solid var(--fill-color);\n",
       "    border-color: transparent;\n",
       "    border-bottom-color: var(--fill-color);\n",
       "    animation:\n",
       "      spin 1s steps(1) infinite;\n",
       "  }\n",
       "\n",
       "  @keyframes spin {\n",
       "    0% {\n",
       "      border-color: transparent;\n",
       "      border-bottom-color: var(--fill-color);\n",
       "      border-left-color: var(--fill-color);\n",
       "    }\n",
       "    20% {\n",
       "      border-color: transparent;\n",
       "      border-left-color: var(--fill-color);\n",
       "      border-top-color: var(--fill-color);\n",
       "    }\n",
       "    30% {\n",
       "      border-color: transparent;\n",
       "      border-left-color: var(--fill-color);\n",
       "      border-top-color: var(--fill-color);\n",
       "      border-right-color: var(--fill-color);\n",
       "    }\n",
       "    40% {\n",
       "      border-color: transparent;\n",
       "      border-right-color: var(--fill-color);\n",
       "      border-top-color: var(--fill-color);\n",
       "    }\n",
       "    60% {\n",
       "      border-color: transparent;\n",
       "      border-right-color: var(--fill-color);\n",
       "    }\n",
       "    80% {\n",
       "      border-color: transparent;\n",
       "      border-right-color: var(--fill-color);\n",
       "      border-bottom-color: var(--fill-color);\n",
       "    }\n",
       "    90% {\n",
       "      border-color: transparent;\n",
       "      border-bottom-color: var(--fill-color);\n",
       "    }\n",
       "  }\n",
       "</style>\n",
       "\n",
       "  <script>\n",
       "    async function quickchart(key) {\n",
       "      const quickchartButtonEl =\n",
       "        document.querySelector('#' + key + ' button');\n",
       "      quickchartButtonEl.disabled = true;  // To prevent multiple clicks.\n",
       "      quickchartButtonEl.classList.add('colab-df-spinner');\n",
       "      try {\n",
       "        const charts = await google.colab.kernel.invokeFunction(\n",
       "            'suggestCharts', [key], {});\n",
       "      } catch (error) {\n",
       "        console.error('Error during call to suggestCharts:', error);\n",
       "      }\n",
       "      quickchartButtonEl.classList.remove('colab-df-spinner');\n",
       "      quickchartButtonEl.classList.add('colab-df-quickchart-complete');\n",
       "    }\n",
       "    (() => {\n",
       "      let quickchartButtonEl =\n",
       "        document.querySelector('#df-e51312d2-4cac-42c0-ad44-4892c0e1a94e button');\n",
       "      quickchartButtonEl.style.display =\n",
       "        google.colab.kernel.accessAllowed ? 'block' : 'none';\n",
       "    })();\n",
       "  </script>\n",
       "</div>\n",
       "    </div>\n",
       "  </div>\n"
      ],
      "text/plain": [
       "   age     sex     bmi     region      charges  smoker_no  smoker_yes  \\\n",
       "0   19  female  27.900  southwest  16884.92400          0           1   \n",
       "1   33    male  22.705  northwest  21984.47061          1           0   \n",
       "2   32    male  28.880  northwest   3866.85520          1           0   \n",
       "3   31  female  25.740  southeast   3756.62160          1           0   \n",
       "4   60  female  25.840  northwest  28923.13692          1           0   \n",
       "\n",
       "   age*smoker  bmi*smoker  \n",
       "0           0       0.000  \n",
       "1          33      22.705  \n",
       "2          32      28.880  \n",
       "3          31      25.740  \n",
       "4          60      25.840  "
      ]
     },
     "execution_count": 77,
     "metadata": {},
     "output_type": "execute_result"
    }
   ],
   "source": [
    "model_11_training_data.head()"
   ]
  },
  {
   "cell_type": "code",
   "execution_count": 78,
   "metadata": {
    "colab": {
     "base_uri": "https://localhost:8080/",
     "height": 226
    },
    "id": "Vxe-Eiyt9xIS",
    "outputId": "b4c963b5-37e3-4cec-cb94-7e1190dcf8c0"
   },
   "outputs": [
    {
     "data": {
      "text/html": [
       "\n",
       "  <div id=\"df-c36220fe-f31b-49f3-a27a-faa0e7a8c72d\" class=\"colab-df-container\">\n",
       "    <div>\n",
       "<style scoped>\n",
       "    .dataframe tbody tr th:only-of-type {\n",
       "        vertical-align: middle;\n",
       "    }\n",
       "\n",
       "    .dataframe tbody tr th {\n",
       "        vertical-align: top;\n",
       "    }\n",
       "\n",
       "    .dataframe thead th {\n",
       "        text-align: right;\n",
       "    }\n",
       "</style>\n",
       "<table border=\"1\" class=\"dataframe\">\n",
       "  <thead>\n",
       "    <tr style=\"text-align: right;\">\n",
       "      <th></th>\n",
       "      <th>age</th>\n",
       "      <th>sex</th>\n",
       "      <th>bmi</th>\n",
       "      <th>region</th>\n",
       "      <th>charges</th>\n",
       "      <th>smoker_no</th>\n",
       "      <th>smoker_yes</th>\n",
       "      <th>age*smoker</th>\n",
       "      <th>bmi*smoker</th>\n",
       "    </tr>\n",
       "  </thead>\n",
       "  <tbody>\n",
       "    <tr>\n",
       "      <th>0</th>\n",
       "      <td>23</td>\n",
       "      <td>male</td>\n",
       "      <td>34.400</td>\n",
       "      <td>southwest</td>\n",
       "      <td>1826.84300</td>\n",
       "      <td>1</td>\n",
       "      <td>0</td>\n",
       "      <td>23</td>\n",
       "      <td>34.400</td>\n",
       "    </tr>\n",
       "    <tr>\n",
       "      <th>1</th>\n",
       "      <td>56</td>\n",
       "      <td>male</td>\n",
       "      <td>40.300</td>\n",
       "      <td>southwest</td>\n",
       "      <td>10602.38500</td>\n",
       "      <td>1</td>\n",
       "      <td>0</td>\n",
       "      <td>56</td>\n",
       "      <td>40.300</td>\n",
       "    </tr>\n",
       "    <tr>\n",
       "      <th>2</th>\n",
       "      <td>18</td>\n",
       "      <td>male</td>\n",
       "      <td>34.100</td>\n",
       "      <td>southeast</td>\n",
       "      <td>1137.01100</td>\n",
       "      <td>1</td>\n",
       "      <td>0</td>\n",
       "      <td>18</td>\n",
       "      <td>34.100</td>\n",
       "    </tr>\n",
       "    <tr>\n",
       "      <th>3</th>\n",
       "      <td>63</td>\n",
       "      <td>female</td>\n",
       "      <td>23.085</td>\n",
       "      <td>northeast</td>\n",
       "      <td>14451.83515</td>\n",
       "      <td>1</td>\n",
       "      <td>0</td>\n",
       "      <td>63</td>\n",
       "      <td>23.085</td>\n",
       "    </tr>\n",
       "    <tr>\n",
       "      <th>4</th>\n",
       "      <td>63</td>\n",
       "      <td>male</td>\n",
       "      <td>28.310</td>\n",
       "      <td>northwest</td>\n",
       "      <td>13770.09790</td>\n",
       "      <td>1</td>\n",
       "      <td>0</td>\n",
       "      <td>63</td>\n",
       "      <td>28.310</td>\n",
       "    </tr>\n",
       "  </tbody>\n",
       "</table>\n",
       "</div>\n",
       "    <div class=\"colab-df-buttons\">\n",
       "\n",
       "  <div class=\"colab-df-container\">\n",
       "    <button class=\"colab-df-convert\" onclick=\"convertToInteractive('df-c36220fe-f31b-49f3-a27a-faa0e7a8c72d')\"\n",
       "            title=\"Convert this dataframe to an interactive table.\"\n",
       "            style=\"display:none;\">\n",
       "\n",
       "  <svg xmlns=\"http://www.w3.org/2000/svg\" height=\"24px\" viewBox=\"0 -960 960 960\">\n",
       "    <path d=\"M120-120v-720h720v720H120Zm60-500h600v-160H180v160Zm220 220h160v-160H400v160Zm0 220h160v-160H400v160ZM180-400h160v-160H180v160Zm440 0h160v-160H620v160ZM180-180h160v-160H180v160Zm440 0h160v-160H620v160Z\"/>\n",
       "  </svg>\n",
       "    </button>\n",
       "\n",
       "  <style>\n",
       "    .colab-df-container {\n",
       "      display:flex;\n",
       "      gap: 12px;\n",
       "    }\n",
       "\n",
       "    .colab-df-convert {\n",
       "      background-color: #E8F0FE;\n",
       "      border: none;\n",
       "      border-radius: 50%;\n",
       "      cursor: pointer;\n",
       "      display: none;\n",
       "      fill: #1967D2;\n",
       "      height: 32px;\n",
       "      padding: 0 0 0 0;\n",
       "      width: 32px;\n",
       "    }\n",
       "\n",
       "    .colab-df-convert:hover {\n",
       "      background-color: #E2EBFA;\n",
       "      box-shadow: 0px 1px 2px rgba(60, 64, 67, 0.3), 0px 1px 3px 1px rgba(60, 64, 67, 0.15);\n",
       "      fill: #174EA6;\n",
       "    }\n",
       "\n",
       "    .colab-df-buttons div {\n",
       "      margin-bottom: 4px;\n",
       "    }\n",
       "\n",
       "    [theme=dark] .colab-df-convert {\n",
       "      background-color: #3B4455;\n",
       "      fill: #D2E3FC;\n",
       "    }\n",
       "\n",
       "    [theme=dark] .colab-df-convert:hover {\n",
       "      background-color: #434B5C;\n",
       "      box-shadow: 0px 1px 3px 1px rgba(0, 0, 0, 0.15);\n",
       "      filter: drop-shadow(0px 1px 2px rgba(0, 0, 0, 0.3));\n",
       "      fill: #FFFFFF;\n",
       "    }\n",
       "  </style>\n",
       "\n",
       "    <script>\n",
       "      const buttonEl =\n",
       "        document.querySelector('#df-c36220fe-f31b-49f3-a27a-faa0e7a8c72d button.colab-df-convert');\n",
       "      buttonEl.style.display =\n",
       "        google.colab.kernel.accessAllowed ? 'block' : 'none';\n",
       "\n",
       "      async function convertToInteractive(key) {\n",
       "        const element = document.querySelector('#df-c36220fe-f31b-49f3-a27a-faa0e7a8c72d');\n",
       "        const dataTable =\n",
       "          await google.colab.kernel.invokeFunction('convertToInteractive',\n",
       "                                                    [key], {});\n",
       "        if (!dataTable) return;\n",
       "\n",
       "        const docLinkHtml = 'Like what you see? Visit the ' +\n",
       "          '<a target=\"_blank\" href=https://colab.research.google.com/notebooks/data_table.ipynb>data table notebook</a>'\n",
       "          + ' to learn more about interactive tables.';\n",
       "        element.innerHTML = '';\n",
       "        dataTable['output_type'] = 'display_data';\n",
       "        await google.colab.output.renderOutput(dataTable, element);\n",
       "        const docLink = document.createElement('div');\n",
       "        docLink.innerHTML = docLinkHtml;\n",
       "        element.appendChild(docLink);\n",
       "      }\n",
       "    </script>\n",
       "  </div>\n",
       "\n",
       "\n",
       "<div id=\"df-5656e4b9-b7ae-4a34-8703-29c9fdfd1ac4\">\n",
       "  <button class=\"colab-df-quickchart\" onclick=\"quickchart('df-5656e4b9-b7ae-4a34-8703-29c9fdfd1ac4')\"\n",
       "            title=\"Suggest charts.\"\n",
       "            style=\"display:none;\">\n",
       "\n",
       "<svg xmlns=\"http://www.w3.org/2000/svg\" height=\"24px\"viewBox=\"0 0 24 24\"\n",
       "     width=\"24px\">\n",
       "    <g>\n",
       "        <path d=\"M19 3H5c-1.1 0-2 .9-2 2v14c0 1.1.9 2 2 2h14c1.1 0 2-.9 2-2V5c0-1.1-.9-2-2-2zM9 17H7v-7h2v7zm4 0h-2V7h2v10zm4 0h-2v-4h2v4z\"/>\n",
       "    </g>\n",
       "</svg>\n",
       "  </button>\n",
       "\n",
       "<style>\n",
       "  .colab-df-quickchart {\n",
       "      --bg-color: #E8F0FE;\n",
       "      --fill-color: #1967D2;\n",
       "      --hover-bg-color: #E2EBFA;\n",
       "      --hover-fill-color: #174EA6;\n",
       "      --disabled-fill-color: #AAA;\n",
       "      --disabled-bg-color: #DDD;\n",
       "  }\n",
       "\n",
       "  [theme=dark] .colab-df-quickchart {\n",
       "      --bg-color: #3B4455;\n",
       "      --fill-color: #D2E3FC;\n",
       "      --hover-bg-color: #434B5C;\n",
       "      --hover-fill-color: #FFFFFF;\n",
       "      --disabled-bg-color: #3B4455;\n",
       "      --disabled-fill-color: #666;\n",
       "  }\n",
       "\n",
       "  .colab-df-quickchart {\n",
       "    background-color: var(--bg-color);\n",
       "    border: none;\n",
       "    border-radius: 50%;\n",
       "    cursor: pointer;\n",
       "    display: none;\n",
       "    fill: var(--fill-color);\n",
       "    height: 32px;\n",
       "    padding: 0;\n",
       "    width: 32px;\n",
       "  }\n",
       "\n",
       "  .colab-df-quickchart:hover {\n",
       "    background-color: var(--hover-bg-color);\n",
       "    box-shadow: 0 1px 2px rgba(60, 64, 67, 0.3), 0 1px 3px 1px rgba(60, 64, 67, 0.15);\n",
       "    fill: var(--button-hover-fill-color);\n",
       "  }\n",
       "\n",
       "  .colab-df-quickchart-complete:disabled,\n",
       "  .colab-df-quickchart-complete:disabled:hover {\n",
       "    background-color: var(--disabled-bg-color);\n",
       "    fill: var(--disabled-fill-color);\n",
       "    box-shadow: none;\n",
       "  }\n",
       "\n",
       "  .colab-df-spinner {\n",
       "    border: 2px solid var(--fill-color);\n",
       "    border-color: transparent;\n",
       "    border-bottom-color: var(--fill-color);\n",
       "    animation:\n",
       "      spin 1s steps(1) infinite;\n",
       "  }\n",
       "\n",
       "  @keyframes spin {\n",
       "    0% {\n",
       "      border-color: transparent;\n",
       "      border-bottom-color: var(--fill-color);\n",
       "      border-left-color: var(--fill-color);\n",
       "    }\n",
       "    20% {\n",
       "      border-color: transparent;\n",
       "      border-left-color: var(--fill-color);\n",
       "      border-top-color: var(--fill-color);\n",
       "    }\n",
       "    30% {\n",
       "      border-color: transparent;\n",
       "      border-left-color: var(--fill-color);\n",
       "      border-top-color: var(--fill-color);\n",
       "      border-right-color: var(--fill-color);\n",
       "    }\n",
       "    40% {\n",
       "      border-color: transparent;\n",
       "      border-right-color: var(--fill-color);\n",
       "      border-top-color: var(--fill-color);\n",
       "    }\n",
       "    60% {\n",
       "      border-color: transparent;\n",
       "      border-right-color: var(--fill-color);\n",
       "    }\n",
       "    80% {\n",
       "      border-color: transparent;\n",
       "      border-right-color: var(--fill-color);\n",
       "      border-bottom-color: var(--fill-color);\n",
       "    }\n",
       "    90% {\n",
       "      border-color: transparent;\n",
       "      border-bottom-color: var(--fill-color);\n",
       "    }\n",
       "  }\n",
       "</style>\n",
       "\n",
       "  <script>\n",
       "    async function quickchart(key) {\n",
       "      const quickchartButtonEl =\n",
       "        document.querySelector('#' + key + ' button');\n",
       "      quickchartButtonEl.disabled = true;  // To prevent multiple clicks.\n",
       "      quickchartButtonEl.classList.add('colab-df-spinner');\n",
       "      try {\n",
       "        const charts = await google.colab.kernel.invokeFunction(\n",
       "            'suggestCharts', [key], {});\n",
       "      } catch (error) {\n",
       "        console.error('Error during call to suggestCharts:', error);\n",
       "      }\n",
       "      quickchartButtonEl.classList.remove('colab-df-spinner');\n",
       "      quickchartButtonEl.classList.add('colab-df-quickchart-complete');\n",
       "    }\n",
       "    (() => {\n",
       "      let quickchartButtonEl =\n",
       "        document.querySelector('#df-5656e4b9-b7ae-4a34-8703-29c9fdfd1ac4 button');\n",
       "      quickchartButtonEl.style.display =\n",
       "        google.colab.kernel.accessAllowed ? 'block' : 'none';\n",
       "    })();\n",
       "  </script>\n",
       "</div>\n",
       "    </div>\n",
       "  </div>\n"
      ],
      "text/plain": [
       "   age     sex     bmi     region      charges  smoker_no  smoker_yes  \\\n",
       "0   23    male  34.400  southwest   1826.84300          1           0   \n",
       "1   56    male  40.300  southwest  10602.38500          1           0   \n",
       "2   18    male  34.100  southeast   1137.01100          1           0   \n",
       "3   63  female  23.085  northeast  14451.83515          1           0   \n",
       "4   63    male  28.310  northwest  13770.09790          1           0   \n",
       "\n",
       "   age*smoker  bmi*smoker  \n",
       "0          23      34.400  \n",
       "1          56      40.300  \n",
       "2          18      34.100  \n",
       "3          63      23.085  \n",
       "4          63      28.310  "
      ]
     },
     "execution_count": 78,
     "metadata": {},
     "output_type": "execute_result"
    }
   ],
   "source": [
    "model_11_testing_data.head()"
   ]
  },
  {
   "cell_type": "code",
   "execution_count": 79,
   "metadata": {
    "id": "Nrdmk4dT42zg"
   },
   "outputs": [],
   "source": [
    "X_train = model_11_training_data[['age', 'bmi', 'age*smoker', 'bmi*smoker']]\n",
    "y_train = model_11_training_data['charges']\n",
    "\n",
    "X_test = model_11_testing_data[['age', 'bmi', 'age*smoker', 'bmi*smoker']]\n",
    "y_test = model_11_testing_data['charges']\n",
    "\n",
    "## Model Spec: Linear Regression\n",
    "\n",
    "lr = LinearRegression()\n",
    "\n",
    "my_pipeline = Pipeline(\n",
    "  [('ols', lr)]\n",
    ")\n",
    "\n",
    "fitted_pipeline = my_pipeline.fit(X_train, y_train)\n",
    "y_preds = fitted_pipeline.predict(X_test)\n",
    "\n",
    "mse_model_11 = mean_squared_error(y_test, y_preds)\n",
    "r_sq_model_11 = r2_score(y_test, y_preds)"
   ]
  },
  {
   "cell_type": "code",
   "execution_count": 80,
   "metadata": {
    "colab": {
     "base_uri": "https://localhost:8080/"
    },
    "id": "GhipmBlfDJrW",
    "outputId": "e64c6e11-c7f4-4950-d7a0-3015f35215bc"
   },
   "outputs": [
    {
     "data": {
      "text/plain": [
       "0.8400778135676981"
      ]
     },
     "execution_count": 80,
     "metadata": {},
     "output_type": "execute_result"
    }
   ],
   "source": [
    "r_sq_model_11"
   ]
  },
  {
   "cell_type": "code",
   "execution_count": 81,
   "metadata": {
    "colab": {
     "base_uri": "https://localhost:8080/"
    },
    "id": "bT3mQJhSDK9m",
    "outputId": "c1a0e851-0ec0-4cd7-e250-a5db37ee5f5c"
   },
   "outputs": [
    {
     "data": {
      "text/plain": [
       "24795908.412643366"
      ]
     },
     "execution_count": 81,
     "metadata": {},
     "output_type": "execute_result"
    }
   ],
   "source": [
    "mse_model_11"
   ]
  },
  {
   "cell_type": "markdown",
   "metadata": {
    "id": "XI92le-GD1jG"
   },
   "source": [
    "### Model 12: Age, BMI, and Smoker with Age and BMI Having Interaction Terms with Smoker"
   ]
  },
  {
   "cell_type": "code",
   "execution_count": 82,
   "metadata": {
    "id": "PXtJrezIEIYH"
   },
   "outputs": [],
   "source": [
    "model_12_training_data = pd.get_dummies(insurance, columns = ['smoker'])\n",
    "model_12_training_data['age*smoker'] = model_12_training_data['age'] * model_12_training_data['smoker_no']\n",
    "model_12_training_data['bmi*smoker'] = model_12_training_data['bmi'] * model_12_training_data['smoker_no']\n",
    "\n",
    "model_12_testing_data = pd.get_dummies(insurance2, columns = ['smoker'])\n",
    "model_12_testing_data['age*smoker'] = model_12_testing_data['age'] * model_12_testing_data['smoker_no']\n",
    "model_12_testing_data['bmi*smoker'] = model_12_testing_data['bmi'] * model_12_testing_data['smoker_no']"
   ]
  },
  {
   "cell_type": "code",
   "execution_count": 83,
   "metadata": {
    "id": "Um1O2FoPEsu7"
   },
   "outputs": [],
   "source": [
    "X_train = model_12_training_data[['age', 'bmi', 'smoker_no', 'age*smoker', 'bmi*smoker']]\n",
    "y_train = model_12_training_data['charges']\n",
    "\n",
    "X_test = model_12_testing_data[['age', 'bmi', 'smoker_no', 'age*smoker', 'bmi*smoker']]\n",
    "y_test = model_12_testing_data['charges']\n",
    "\n",
    "## Model Spec: Linear Regression\n",
    "\n",
    "lr = LinearRegression()\n",
    "\n",
    "my_pipeline = Pipeline(\n",
    "  [('ols', lr)]\n",
    ")\n",
    "\n",
    "fitted_pipeline = my_pipeline.fit(X_train, y_train)\n",
    "y_preds = fitted_pipeline.predict(X_test)\n",
    "\n",
    "mse_model_12 = mean_squared_error(y_test, y_preds)\n",
    "r_sq_model_12 = r2_score(y_test, y_preds)"
   ]
  },
  {
   "cell_type": "code",
   "execution_count": 84,
   "metadata": {
    "colab": {
     "base_uri": "https://localhost:8080/"
    },
    "id": "c1LY4q9QFOh1",
    "outputId": "63abdba3-7368-45cb-eef5-ad8eed73af80"
   },
   "outputs": [
    {
     "data": {
      "text/plain": [
       "0.8594886795699617"
      ]
     },
     "execution_count": 84,
     "metadata": {},
     "output_type": "execute_result"
    }
   ],
   "source": [
    "r_sq_model_12"
   ]
  },
  {
   "cell_type": "code",
   "execution_count": 85,
   "metadata": {
    "colab": {
     "base_uri": "https://localhost:8080/"
    },
    "id": "QkjRKeK7FRgu",
    "outputId": "e33eec20-385d-4426-8c03-d226f48feb57"
   },
   "outputs": [
    {
     "data": {
      "text/plain": [
       "21786256.866852555"
      ]
     },
     "execution_count": 85,
     "metadata": {},
     "output_type": "execute_result"
    }
   ],
   "source": [
    "mse_model_12"
   ]
  },
  {
   "cell_type": "markdown",
   "metadata": {
    "id": "poCCJWVIImkR"
   },
   "source": [
    "Based on the MSE alone, Model 12 is the superior model as it has the lowest MSE."
   ]
  },
  {
   "cell_type": "code",
   "execution_count": 86,
   "metadata": {
    "id": "2jqT2_vbJBqI"
   },
   "outputs": [],
   "source": [
    "model_12_testing_data['residuals'] = y_test - y_preds"
   ]
  },
  {
   "cell_type": "code",
   "execution_count": 87,
   "metadata": {
    "colab": {
     "base_uri": "https://localhost:8080/"
    },
    "id": "LFieyk8aJV-9",
    "outputId": "db36ed86-f45f-40ba-f33c-18dc2757f12e"
   },
   "outputs": [
    {
     "name": "stdout",
     "output_type": "stream",
     "text": [
      "<class 'pandas.core.frame.DataFrame'>\n",
      "RangeIndex: 143 entries, 0 to 142\n",
      "Data columns (total 10 columns):\n",
      " #   Column      Non-Null Count  Dtype  \n",
      "---  ------      --------------  -----  \n",
      " 0   age         143 non-null    int64  \n",
      " 1   sex         143 non-null    object \n",
      " 2   bmi         143 non-null    float64\n",
      " 3   region      143 non-null    object \n",
      " 4   charges     143 non-null    float64\n",
      " 5   smoker_no   143 non-null    uint8  \n",
      " 6   smoker_yes  143 non-null    uint8  \n",
      " 7   age*smoker  143 non-null    int64  \n",
      " 8   bmi*smoker  143 non-null    float64\n",
      " 9   residuals   143 non-null    float64\n",
      "dtypes: float64(4), int64(2), object(2), uint8(2)\n",
      "memory usage: 9.3+ KB\n"
     ]
    }
   ],
   "source": [
    "model_12_testing_data.info()"
   ]
  },
  {
   "cell_type": "code",
   "execution_count": 88,
   "metadata": {
    "colab": {
     "base_uri": "https://localhost:8080/",
     "height": 514
    },
    "id": "FuVvaUiLh9Yc",
    "outputId": "66bcbede-e485-423f-d23f-730ebf21e8c1"
   },
   "outputs": [
    {
     "data": {
      "image/png": "[encoded data removed]",
      "text/plain": [
       "<Figure size 640x480 with 1 Axes>"
      ]
     },
     "metadata": {
      "image/png": {
       "height": 480,
       "width": 640
      }
     },
     "output_type": "display_data"
    },
    {
     "data": {
      "text/plain": [
       "<Figure Size: (640 x 480)>"
      ]
     },
     "execution_count": 88,
     "metadata": {},
     "output_type": "execute_result"
    }
   ],
   "source": [
    "(ggplot(model_12_testing_data,\n",
    "  aes(\n",
    "      x = \"charges\",\n",
    "      y = \"residuals\"\n",
    "))\n",
    "+ geom_point()\n",
    "+ labs(x = \"Charges\", y = \"Residuals\", title = \"Residuals of Model 12\")\n",
    ")"
   ]
  },
  {
   "cell_type": "markdown",
   "metadata": {
    "id": "zhEpkBjKjETY"
   },
   "source": [
    "# Part Five: Full Exploration"
   ]
  },
  {
   "cell_type": "markdown",
   "metadata": {
    "id": "Z6SG5OUerpKe"
   },
   "source": [
    "### Model 13: Age^2, BMI^2, with Both of Their Interaction Terms with Smoker"
   ]
  },
  {
   "cell_type": "code",
   "execution_count": 89,
   "metadata": {
    "id": "opiDvxmJjI9w"
   },
   "outputs": [],
   "source": [
    "model_13_training_data = pd.get_dummies(insurance, columns = ['smoker'])\n",
    "model_13_training_data['age^2'] = model_13_training_data['age']**2\n",
    "model_13_training_data['bmi^2'] = model_13_training_data['bmi']**2\n",
    "model_13_training_data['age^2*smoker'] = model_13_training_data['age^2'] * model_13_training_data['smoker_no']\n",
    "model_13_training_data['bmi^2*smoker'] = model_13_training_data['bmi^2'] * model_13_training_data['smoker_no']\n",
    "\n",
    "model_13_testing_data = pd.get_dummies(insurance2, columns = ['smoker'])\n",
    "model_13_testing_data['age^2'] = model_13_testing_data['age']**2\n",
    "model_13_testing_data['bmi^2'] = model_13_testing_data['bmi']**2\n",
    "model_13_testing_data['age^2*smoker'] = model_13_testing_data['age^2'] * model_13_testing_data['smoker_no']\n",
    "model_13_testing_data['bmi^2*smoker'] = model_13_testing_data['bmi^2'] * model_13_testing_data['smoker_no']"
   ]
  },
  {
   "cell_type": "code",
   "execution_count": 90,
   "metadata": {
    "id": "O5C_EHiwsIaI"
   },
   "outputs": [],
   "source": [
    "X_train = model_13_training_data[['age', 'bmi', 'smoker_no', 'age^2*smoker', 'bmi^2*smoker']]\n",
    "y_train = model_13_training_data['charges']\n",
    "\n",
    "X_test = model_13_testing_data[['age', 'bmi', 'smoker_no', 'age^2*smoker', 'bmi^2*smoker']]\n",
    "y_test = model_13_testing_data['charges']\n",
    "\n",
    "## Preprocessing: Polynomial Deg 2\n",
    "## Model Spec: Linear Regression\n",
    "\n",
    "lr = LinearRegression()\n",
    "\n",
    "\n",
    "my_pipeline = Pipeline(\n",
    "  [('ols', lr)]\n",
    ")\n",
    "\n",
    "fitted_pipeline = my_pipeline.fit(X_train, y_train)\n",
    "y_preds = fitted_pipeline.predict(X_test)\n",
    "\n",
    "mse_model_13 = mean_squared_error(y_test, y_preds)\n",
    "r_sq_model_13 = r2_score(y_test, y_preds)"
   ]
  },
  {
   "cell_type": "code",
   "execution_count": 91,
   "metadata": {
    "colab": {
     "base_uri": "https://localhost:8080/"
    },
    "id": "c4oyCNPJtlF8",
    "outputId": "95f3d15e-a520-45bf-d471-9b716b8b772f"
   },
   "outputs": [
    {
     "data": {
      "text/plain": [
       "0.8556369665722461"
      ]
     },
     "execution_count": 91,
     "metadata": {},
     "output_type": "execute_result"
    }
   ],
   "source": [
    "r_sq_model_13"
   ]
  },
  {
   "cell_type": "code",
   "execution_count": 92,
   "metadata": {
    "colab": {
     "base_uri": "https://localhost:8080/"
    },
    "id": "eUsMdQiktmoJ",
    "outputId": "40b50d48-9482-4033-9f1e-450d9e6a4bf3"
   },
   "outputs": [
    {
     "data": {
      "text/plain": [
       "22383464.32664161"
      ]
     },
     "execution_count": 92,
     "metadata": {},
     "output_type": "execute_result"
    }
   ],
   "source": [
    "mse_model_13"
   ]
  },
  {
   "cell_type": "markdown",
   "metadata": {
    "id": "sJVxqkT8wupi"
   },
   "source": [
    "### Model 14: Age^4, BMI^4, with Both of Their Interaction Terms with Smoker"
   ]
  },
  {
   "cell_type": "code",
   "execution_count": 93,
   "metadata": {
    "id": "nuX6A06AvuTY"
   },
   "outputs": [],
   "source": [
    "model_14_training_data = pd.get_dummies(insurance, columns = ['smoker'])\n",
    "model_14_training_data['age^4'] = model_14_training_data['age']**4\n",
    "model_14_training_data['bmi^4'] = model_14_training_data['bmi']**4\n",
    "model_14_training_data['age^4*smoker'] = model_14_training_data['age^4'] * model_14_training_data['smoker_no']\n",
    "model_14_training_data['bmi^4*smoker'] = model_14_training_data['bmi^4'] * model_14_training_data['smoker_no']\n",
    "\n",
    "model_14_testing_data = pd.get_dummies(insurance2, columns = ['smoker'])\n",
    "model_14_testing_data['age^4'] = model_14_testing_data['age']**4\n",
    "model_14_testing_data['bmi^4'] = model_14_testing_data['bmi']**4\n",
    "model_14_testing_data['age^4*smoker'] = model_14_testing_data['age^4'] * model_14_testing_data['smoker_no']\n",
    "model_14_testing_data['bmi^4*smoker'] = model_14_testing_data['bmi^4'] * model_14_testing_data['smoker_no']"
   ]
  },
  {
   "cell_type": "code",
   "execution_count": 94,
   "metadata": {
    "id": "qiCI_TsAwUi_"
   },
   "outputs": [],
   "source": [
    "X_train = model_14_training_data[['age', 'bmi', 'smoker_no', 'age^4*smoker', 'bmi^4*smoker']]\n",
    "y_train = model_14_training_data['charges']\n",
    "\n",
    "X_test = model_14_testing_data[['age', 'bmi', 'smoker_no', 'age^4*smoker', 'bmi^4*smoker']]\n",
    "y_test = model_14_testing_data['charges']\n",
    "\n",
    "## Preprocessing: Polynomial Deg 4\n",
    "## Model Spec: Linear Regression\n",
    "\n",
    "lr = LinearRegression()\n",
    "\n",
    "my_pipeline = Pipeline(\n",
    "  [('ols', lr)]\n",
    ")\n",
    "\n",
    "fitted_pipeline = my_pipeline.fit(X_train, y_train)\n",
    "y_preds = fitted_pipeline.predict(X_test)\n",
    "\n",
    "mse_model_14 = mean_squared_error(y_test, y_preds)\n",
    "r_sq_model_14 = r2_score(y_test, y_preds)"
   ]
  },
  {
   "cell_type": "code",
   "execution_count": 95,
   "metadata": {
    "colab": {
     "base_uri": "https://localhost:8080/"
    },
    "id": "St_qi6pXv9Km",
    "outputId": "c3a2256e-a464-47f2-cef3-0d2bcdebda39"
   },
   "outputs": [
    {
     "data": {
      "text/plain": [
       "0.8143571515538408"
      ]
     },
     "execution_count": 95,
     "metadata": {},
     "output_type": "execute_result"
    }
   ],
   "source": [
    "r_sq_model_14"
   ]
  },
  {
   "cell_type": "code",
   "execution_count": 96,
   "metadata": {
    "colab": {
     "base_uri": "https://localhost:8080/"
    },
    "id": "HDAehtJKv_Xv",
    "outputId": "4462271a-278b-471a-a96c-0f72b43df719"
   },
   "outputs": [
    {
     "data": {
      "text/plain": [
       "28783892.780766916"
      ]
     },
     "execution_count": 96,
     "metadata": {},
     "output_type": "execute_result"
    }
   ],
   "source": [
    "mse_model_14"
   ]
  },
  {
   "cell_type": "markdown",
   "metadata": {
    "id": "Wch-xBp4xeaE"
   },
   "source": [
    "### Model 15: Age, BMI, Smoker, Age^2, BMI^2, and the Interaction Terms Between Age and Smoker, BMI and Smoker, and Age, BMI and Smoker"
   ]
  },
  {
   "cell_type": "code",
   "execution_count": 97,
   "metadata": {
    "id": "RadjEYPnxswo"
   },
   "outputs": [],
   "source": [
    "model_15_training_data = pd.get_dummies(insurance, columns = ['smoker'])\n",
    "model_15_training_data['age^2'] = model_15_training_data['age']**2\n",
    "model_15_training_data['bmi^2'] = model_15_training_data['bmi']**2\n",
    "model_15_training_data['age*bmi'] = model_15_training_data['age'] * model_15_training_data['bmi']\n",
    "model_15_training_data['age*smoker'] = model_15_training_data['age'] * model_15_training_data['smoker_no']\n",
    "model_15_training_data['bmi*smoker'] = model_15_training_data['bmi'] * model_15_training_data['smoker_no']\n",
    "model_15_training_data['age*bmi*smoker'] = model_15_training_data['age'] * model_15_training_data['bmi'] * model_15_training_data['smoker_no']\n",
    "\n",
    "model_15_testing_data = pd.get_dummies(insurance2, columns = ['smoker'])\n",
    "model_15_testing_data['age^2'] = model_15_testing_data['age']**2\n",
    "model_15_testing_data['bmi^2'] = model_15_testing_data['bmi']**2\n",
    "model_15_testing_data['age*bmi'] = model_15_testing_data['age'] * model_15_testing_data['bmi']\n",
    "model_15_testing_data['age*smoker'] = model_15_testing_data['age'] * model_15_testing_data['smoker_no']\n",
    "model_15_testing_data['bmi*smoker'] = model_15_testing_data['bmi'] * model_15_testing_data['smoker_no']\n",
    "model_15_testing_data['age*bmi*smoker'] = model_15_testing_data['age'] * model_15_testing_data['bmi'] * model_15_testing_data['smoker_no']"
   ]
  },
  {
   "cell_type": "code",
   "execution_count": 98,
   "metadata": {
    "id": "uFe8f_cJyJVm"
   },
   "outputs": [],
   "source": [
    "X_train = model_15_training_data[['age', 'bmi', 'smoker_no', 'age^2', 'bmi^2', 'age*smoker', 'bmi*smoker', 'age*bmi*smoker']]\n",
    "y_train = model_15_training_data['charges']\n",
    "\n",
    "X_test = model_15_testing_data[['age', 'bmi', 'smoker_no', 'age^2', 'bmi^2', 'age*smoker', 'bmi*smoker', 'age*bmi*smoker']]\n",
    "y_test = model_15_testing_data['charges']\n",
    "\n",
    "## Model Spec: Linear Regression\n",
    "\n",
    "lr = LinearRegression()\n",
    "\n",
    "my_pipeline = Pipeline(\n",
    "  [('ols', lr)]\n",
    ")\n",
    "\n",
    "fitted_pipeline = my_pipeline.fit(X_train, y_train)\n",
    "y_preds = fitted_pipeline.predict(X_test)\n",
    "\n",
    "mse_model_15 = mean_squared_error(y_test, y_preds)\n",
    "r_sq_model_15 = r2_score(y_test, y_preds)"
   ]
  },
  {
   "cell_type": "code",
   "execution_count": 99,
   "metadata": {
    "colab": {
     "base_uri": "https://localhost:8080/"
    },
    "id": "5x6lgqm34e5r",
    "outputId": "b3dc2e2a-77cc-46a8-afe7-aaafee77a57b"
   },
   "outputs": [
    {
     "data": {
      "text/plain": [
       "0.8611282823938757"
      ]
     },
     "execution_count": 99,
     "metadata": {},
     "output_type": "execute_result"
    }
   ],
   "source": [
    "r_sq_model_15"
   ]
  },
  {
   "cell_type": "code",
   "execution_count": 100,
   "metadata": {
    "colab": {
     "base_uri": "https://localhost:8080/"
    },
    "id": "n_B9ZiU04gcR",
    "outputId": "7812ddc0-2670-43e3-b0a9-91f6841d84e4"
   },
   "outputs": [
    {
     "data": {
      "text/plain": [
       "21532036.72165654"
      ]
     },
     "execution_count": 100,
     "metadata": {},
     "output_type": "execute_result"
    }
   ],
   "source": [
    "mse_model_15"
   ]
  },
  {
   "cell_type": "markdown",
   "metadata": {
    "id": "dacf_NGwgoLh"
   },
   "source": [
    "## Model 16: Age, BMI, Smoker, Age^2, BMI^2, and the Interaction Terms Between Age and BMI, Age and Smoker, BMI and Smoker, and Age, BMI and Smoker"
   ]
  },
  {
   "cell_type": "code",
   "execution_count": 101,
   "metadata": {
    "id": "Rs_WnIqLgq8H"
   },
   "outputs": [],
   "source": [
    "model_16_training_data = pd.get_dummies(insurance, columns = ['smoker'])\n",
    "model_16_training_data['age^2'] = model_16_training_data['age']**2\n",
    "model_16_training_data['bmi^2'] = model_16_training_data['bmi']**2\n",
    "model_16_training_data['age*bmi'] = model_16_training_data['age'] * model_16_training_data['bmi']\n",
    "model_16_training_data['age*smoker'] = model_16_training_data['age'] * model_16_training_data['smoker_no']\n",
    "model_16_training_data['bmi*smoker'] = model_16_training_data['bmi'] * model_16_training_data['smoker_no']\n",
    "model_16_training_data['age*bmi*smoker'] = model_16_training_data['age'] * model_16_training_data['bmi'] * model_16_training_data['smoker_no']\n",
    "\n",
    "model_16_testing_data = pd.get_dummies(insurance2, columns = ['smoker'])\n",
    "model_16_testing_data['age^2'] = model_16_testing_data['age']**2\n",
    "model_16_testing_data['bmi^2'] = model_16_testing_data['bmi']**2\n",
    "model_16_testing_data['age*bmi'] = model_16_testing_data['age'] * model_16_testing_data['bmi']\n",
    "model_16_testing_data['age*smoker'] = model_16_testing_data['age'] * model_16_testing_data['smoker_no']\n",
    "model_16_testing_data['bmi*smoker'] = model_16_testing_data['bmi'] * model_16_testing_data['smoker_no']\n",
    "model_16_testing_data['age*bmi*smoker'] = model_16_testing_data['age'] * model_16_testing_data['bmi'] * model_16_testing_data['smoker_no']"
   ]
  },
  {
   "cell_type": "code",
   "execution_count": 102,
   "metadata": {
    "id": "XMnFpetCgt-8"
   },
   "outputs": [],
   "source": [
    "X_train = model_16_training_data[['age', 'bmi', 'smoker_no', 'age^2', 'bmi^2', 'age*bmi', 'age*smoker', 'bmi*smoker', 'age*bmi*smoker']]\n",
    "y_train = model_16_training_data['charges']\n",
    "\n",
    "X_test = model_16_testing_data[['age', 'bmi', 'smoker_no', 'age^2', 'bmi^2', 'age*bmi', 'age*smoker', 'bmi*smoker', 'age*bmi*smoker']]\n",
    "y_test = model_16_testing_data['charges']\n",
    "\n",
    "## Model Spec: Linear Regression\n",
    "\n",
    "lr = LinearRegression()\n",
    "\n",
    "my_pipeline = Pipeline(\n",
    "  [('ols', lr)]\n",
    ")\n",
    "\n",
    "fitted_pipeline = my_pipeline.fit(X_train, y_train)\n",
    "y_preds = fitted_pipeline.predict(X_test)\n",
    "\n",
    "mse_model_16 = mean_squared_error(y_test, y_preds)\n",
    "r_sq_model_16 = r2_score(y_test, y_preds)"
   ]
  },
  {
   "cell_type": "code",
   "execution_count": 103,
   "metadata": {
    "colab": {
     "base_uri": "https://localhost:8080/"
    },
    "id": "STeZkPZcgwmH",
    "outputId": "ea263702-6fb3-4842-ea56-1c5d26d244ea"
   },
   "outputs": [
    {
     "data": {
      "text/plain": [
       "0.8620738190296706"
      ]
     },
     "execution_count": 103,
     "metadata": {},
     "output_type": "execute_result"
    }
   ],
   "source": [
    "r_sq_model_16"
   ]
  },
  {
   "cell_type": "code",
   "execution_count": 104,
   "metadata": {
    "colab": {
     "base_uri": "https://localhost:8080/"
    },
    "id": "oM4mCnpWkFQO",
    "outputId": "184b52da-a456-4b00-9f62-d611f3b0378c"
   },
   "outputs": [
    {
     "data": {
      "text/plain": [
       "21385431.42351116"
      ]
     },
     "execution_count": 104,
     "metadata": {},
     "output_type": "execute_result"
    }
   ],
   "source": [
    "mse_model_16"
   ]
  },
  {
   "cell_type": "code",
   "execution_count": 105,
   "metadata": {
    "id": "HIbaZBB_l7Jw"
   },
   "outputs": [],
   "source": [
    "model_16_testing_data['residuals'] = y_test - y_preds"
   ]
  },
  {
   "cell_type": "markdown",
   "metadata": {
    "id": "fEhR6OghffIo"
   },
   "source": [
    "### Model 17: Age, BMI, Smoker, Age^2, BMI^2, and the Interaction Terms Between Age^2 and Smoker, BMI^2 and Smoker, and Age^2, BMI^2 and Smoker"
   ]
  },
  {
   "cell_type": "code",
   "execution_count": 106,
   "metadata": {
    "id": "GY1WoJAsemDo"
   },
   "outputs": [],
   "source": [
    "model_17_training_data = pd.get_dummies(insurance, columns = ['smoker'])\n",
    "model_17_training_data['age^2'] = model_17_training_data['age']**2\n",
    "model_17_training_data['bmi^2'] = model_17_training_data['bmi']**2\n",
    "model_17_training_data['age^2*bmi^2'] = model_17_training_data['age^2'] * model_17_training_data['bmi^2']\n",
    "model_17_training_data['age^2*smoker'] = model_17_training_data['age^2'] * model_17_training_data['smoker_no']\n",
    "model_17_training_data['bmi^2*smoker'] = model_17_training_data['bmi^2'] * model_17_training_data['smoker_no']\n",
    "model_17_training_data['age^2*bmi^2*smoker'] = model_17_training_data['age^2'] * model_17_training_data['bmi^2'] * model_17_training_data['smoker_no']\n",
    "\n",
    "model_17_testing_data = pd.get_dummies(insurance2, columns = ['smoker'])\n",
    "model_17_testing_data['age^2'] = model_17_testing_data['age']**2\n",
    "model_17_testing_data['bmi^2'] = model_17_testing_data['bmi']**2\n",
    "model_17_testing_data['age^2*bmi^2'] = model_17_testing_data['age^2'] * model_17_testing_data['bmi^2']\n",
    "model_17_testing_data['age^2*smoker'] = model_17_testing_data['age^2'] * model_17_testing_data['smoker_no']\n",
    "model_17_testing_data['bmi^2*smoker'] = model_17_testing_data['bmi^2'] * model_17_testing_data['smoker_no']\n",
    "model_17_testing_data['age^2*bmi^2*smoker'] = model_17_testing_data['age^2'] * model_17_testing_data['bmi^2'] * model_17_testing_data['smoker_no']"
   ]
  },
  {
   "cell_type": "code",
   "execution_count": 107,
   "metadata": {
    "id": "-QEfdoPqfrx2"
   },
   "outputs": [],
   "source": [
    "X_train = model_17_training_data[['age', 'bmi', 'smoker_no', 'age^2', 'bmi^2', 'age^2*smoker', 'bmi^2*smoker', 'age^2*bmi^2*smoker']]\n",
    "y_train = model_17_training_data['charges']\n",
    "\n",
    "X_test = model_17_testing_data[['age', 'bmi', 'smoker_no', 'age^2', 'bmi^2', 'age^2*smoker', 'bmi^2*smoker', 'age^2*bmi^2*smoker']]\n",
    "y_test = model_17_testing_data['charges']\n",
    "\n",
    "## Model Spec: Linear Regression\n",
    "\n",
    "lr = LinearRegression()\n",
    "\n",
    "my_pipeline = Pipeline(\n",
    "  [('ols', lr)]\n",
    ")\n",
    "\n",
    "fitted_pipeline = my_pipeline.fit(X_train, y_train)\n",
    "y_preds = fitted_pipeline.predict(X_test)\n",
    "\n",
    "mse_model_17 = mean_squared_error(y_test, y_preds)\n",
    "r_sq_model_17 = r2_score(y_test, y_preds)"
   ]
  },
  {
   "cell_type": "code",
   "execution_count": 108,
   "metadata": {
    "colab": {
     "base_uri": "https://localhost:8080/"
    },
    "id": "m4F39aoUlMc_",
    "outputId": "d8d397af-7e01-4828-a712-e56337d8ce4d"
   },
   "outputs": [
    {
     "data": {
      "text/plain": [
       "0.8591340268779237"
      ]
     },
     "execution_count": 108,
     "metadata": {},
     "output_type": "execute_result"
    }
   ],
   "source": [
    "r_sq_model_17"
   ]
  },
  {
   "cell_type": "code",
   "execution_count": 109,
   "metadata": {
    "colab": {
     "base_uri": "https://localhost:8080/"
    },
    "id": "PbMXbxKflOeP",
    "outputId": "d096af8e-a4f0-48bb-9613-efe666dca1d1"
   },
   "outputs": [
    {
     "data": {
      "text/plain": [
       "21841245.707777362"
      ]
     },
     "execution_count": 109,
     "metadata": {},
     "output_type": "execute_result"
    }
   ],
   "source": [
    "mse_model_17"
   ]
  },
  {
   "cell_type": "markdown",
   "metadata": {
    "id": "x7Nl8RdclnCe"
   },
   "source": [
    "# Residual Plot of Best Model"
   ]
  },
  {
   "cell_type": "code",
   "execution_count": 110,
   "metadata": {
    "colab": {
     "base_uri": "https://localhost:8080/",
     "height": 514
    },
    "id": "6bPpceXjliOs",
    "outputId": "20065504-1d36-4693-ffb3-5db022ad655d"
   },
   "outputs": [
    {
     "data": {
      "image/png": "[encoded data removed]",
      "text/plain": [
       "<Figure size 640x480 with 1 Axes>"
      ]
     },
     "metadata": {
      "image/png": {
       "height": 480,
       "width": 640
      }
     },
     "output_type": "display_data"
    },
    {
     "data": {
      "text/plain": [
       "<Figure Size: (640 x 480)>"
      ]
     },
     "execution_count": 110,
     "metadata": {},
     "output_type": "execute_result"
    }
   ],
   "source": [
    "(ggplot(model_16_testing_data,\n",
    "  aes(\n",
    "      x = \"charges\",\n",
    "      y = \"residuals\"\n",
    "))\n",
    "+ geom_point()\n",
    "+ labs(x = \"Charges\", y = \"Residuals\", title = \"Residuals of Model 16 \")\n",
    ")"
   ]
  },
  {
   "cell_type": "markdown",
   "metadata": {
    "id": "-l7bngChxEKb"
   },
   "source": [
    "# Citations\n",
    "\n",
    "- https://pandas.pydata.org/docs/reference/api/pandas.get_dummies.html\n",
    "\n",
    "\n",
    "\n",
    "Assisted by ChatGPT for:\n",
    "- Honing in on important variables for improved R^2(Feature Selection)"
   ]
  }
 ],
 "metadata": {
  "colab": {
   "provenance": []
  },
  "kernelspec": {
   "display_name": "Python 3 (ipykernel)",
   "language": "python",
   "name": "python3"
  },
  "language_info": {
   "codemirror_mode": {
    "name": "ipython",
    "version": 3
   },
   "file_extension": ".py",
   "mimetype": "text/x-python",
   "name": "python",
   "nbconvert_exporter": "python",
   "pygments_lexer": "ipython3",
   "version": "3.11.4"
  }
 },
 "nbformat": 4,
 "nbformat_minor": 1
}
